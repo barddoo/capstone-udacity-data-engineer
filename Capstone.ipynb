{
 "cells": [
  {
   "cell_type": "markdown",
   "metadata": {
    "editable": true
   },
   "source": [
    "# Data Engineering Capstone Project\n",
    "\n",
    "#### Project Summary\n",
    "The Capstone project analyses and process data from Brazilian stock market since 2013 until now. Also,\n",
    "the Brazilian economic data from [World Bank](https://data.worldbank.org/).\n",
    "\n",
    "With those data in mind, it is possible to evaluate and take insights, relate country data with stock market.\n",
    "Basically to answer questions like:\n",
    "* Does the stock market influence real economy?\n",
    "* Is the population's education rate related to the increase in GDP?\n",
    "* The raising of company in stock market help us somehow?\n",
    "\n",
    "\n",
    "The project follows the follow steps:\n",
    "* Step 1: Scope the Project and Gather Data\n",
    "* Step 2: Explore and Assess the Data\n",
    "* Step 3: Define the Data Model\n",
    "* Step 4: Run ETL to Model the Data\n",
    "* Step 5: Complete Project Write Up"
   ]
  },
  {
   "cell_type": "code",
   "execution_count": 1,
   "metadata": {
    "collapsed": false,
    "editable": true,
    "jupyter": {
     "outputs_hidden": false
    },
    "pycharm": {
     "name": "#%%\n"
    }
   },
   "outputs": [
    {
     "name": "stdout",
     "output_type": "stream",
     "text": [
      "Requirement already satisfied: bovespa in ./env/lib/python3.8/site-packages (0.1.0)\r\n",
      "Requirement already satisfied: pyspark in ./env/lib/python3.8/site-packages (3.1.1)\r\n",
      "Requirement already satisfied: py4j==0.10.9 in ./env/lib/python3.8/site-packages (from pyspark) (0.10.9)\r\n",
      "Requirement already satisfied: wbgapi in ./env/lib/python3.8/site-packages (1.0.5)\r\n",
      "Requirement already satisfied: requests in ./env/lib/python3.8/site-packages (from wbgapi) (2.25.1)\r\n",
      "Requirement already satisfied: PyYAML in ./env/lib/python3.8/site-packages (from wbgapi) (5.4.1)\r\n",
      "Requirement already satisfied: tabulate in ./env/lib/python3.8/site-packages (from wbgapi) (0.8.9)\r\n",
      "Requirement already satisfied: idna<3,>=2.5 in ./env/lib/python3.8/site-packages (from requests->wbgapi) (2.10)\r\n",
      "Requirement already satisfied: certifi>=2017.4.17 in ./env/lib/python3.8/site-packages (from requests->wbgapi) (2020.12.5)\r\n",
      "Requirement already satisfied: urllib3<1.27,>=1.21.1 in ./env/lib/python3.8/site-packages (from requests->wbgapi) (1.26.4)\r\n",
      "Requirement already satisfied: chardet<5,>=3.0.2 in ./env/lib/python3.8/site-packages (from requests->wbgapi) (4.0.0)\r\n"
     ]
    }
   ],
   "source": [
    "!pip install bovespa\n",
    "!pip install pyspark\n",
    "!pip install wbgapi"
   ]
  },
  {
   "cell_type": "code",
   "execution_count": 2,
   "metadata": {
    "editable": true
   },
   "outputs": [],
   "source": [
    "import os\n",
    "\n",
    "import bovespa\n",
    "import etl_functions\n",
    "import wbgapi as wb\n",
    "from pyspark.sql import SparkSession\n",
    "from pyspark.sql.types import StructType, StructField, StringType, IntegerType, DateType, DoubleType, MapType\n",
    "from pyspark.sql import types as T\n",
    "from pyspark.sql import functions as F"
   ]
  },
  {
   "cell_type": "markdown",
   "metadata": {
    "editable": true
   },
   "source": [
    "### Step 1: Scope the Project and Gather Data\n",
    "\n",
    "#### Scope\n",
    "The Capstone project analyses and process data from Brazilian stock market since 2013 until now. Also,\n",
    "the Brazilian economic data from [World Bank](https://data.worldbank.org/).\n",
    "\n",
    "#### Describe and Gather Data\n",
    "Describe the data sets you're using. Where did it come from? What type of information is included?\n",
    "\n",
    "Bovespa is the main Brazilian stock Exchange. Here is listed all trading data since 2013.\n",
    "\n",
    "It includes the day of the trading, company name, stock id, stock data, such as: price open, price close, price high, price low.\n",
    "\n",
    "World Bank collects all data from all country in the world, since 1960.\n",
    "It has information about environment, education, GDP, economy, social.\n",
    "http://www.b3.com.br/en_us/market-data-and-indices/data-services/market-data/historical-data/equities/historical-quotes/\n",
    "https://api.worldbank.org/v2/en/country/BRA?downloadformat=csv\n",
    "\n",
    "Result will be written in disk, to make it simpler."
   ]
  },
  {
   "cell_type": "code",
   "execution_count": 3,
   "metadata": {
    "collapsed": false,
    "editable": true,
    "jupyter": {
     "outputs_hidden": false
    },
    "pycharm": {
     "name": "#%%\n"
    }
   },
   "outputs": [],
   "source": [
    "os.environ['JAVA_HOME'] = '/home/charl3ff/.sdkman/candidates/java/current'\n",
    "spark = SparkSession.builder.enableHiveSupport()\\\n",
    "    .appName(\"Capstone\")\\\n",
    "    .getOrCreate()"
   ]
  },
  {
   "cell_type": "markdown",
   "metadata": {
    "editable": true,
    "pycharm": {
     "name": "#%% md\n"
    }
   },
   "source": [
    "### ETL stock market"
   ]
  },
  {
   "cell_type": "code",
   "execution_count": 4,
   "metadata": {
    "collapsed": false,
    "editable": true,
    "jupyter": {
     "outputs_hidden": false
    },
    "pycharm": {
     "name": "#%%\n"
    }
   },
   "outputs": [],
   "source": [
    "# Load data trading data from bovespa\n",
    "\n",
    "input_data = \"sample_data/\"\n",
    "trading_file = input_data + \"COTAHIST*.txt\"\n",
    "\n",
    "df_data = spark.read.text(trading_file)"
   ]
  },
  {
   "cell_type": "code",
   "execution_count": 5,
   "outputs": [],
   "source": [
    "schema = StructType([\n",
    "    StructField('date', DateType(), True),\n",
    "    StructField('year', IntegerType(), True),\n",
    "    StructField('month', IntegerType(), True),\n",
    "    StructField('day', IntegerType(), True),\n",
    "    StructField('money_volume', T.DoubleType(), True),\n",
    "    StructField('volume', T.IntegerType(), True),\n",
    "    StructField('stock_code', StringType(), True),\n",
    "    StructField('company_name', StringType(), True),\n",
    "    StructField('price_open', DoubleType(), True),\n",
    "    StructField('price_close', DoubleType(), True),\n",
    "    StructField('price_mean', DoubleType(), True),\n",
    "    StructField('price_high', DoubleType(), True),\n",
    "    StructField('price_low', DoubleType(), True),\n",
    "    StructField('variation', DoubleType(), True)\n",
    "])"
   ],
   "metadata": {
    "collapsed": false,
    "pycharm": {
     "name": "#%%\n"
    }
   }
  },
  {
   "cell_type": "code",
   "execution_count": 6,
   "metadata": {
    "collapsed": false,
    "editable": true,
    "jupyter": {
     "outputs_hidden": false
    },
    "pycharm": {
     "name": "#%%\n"
    }
   },
   "outputs": [],
   "source": [
    "# Parse data\n",
    "@F.udf(returnType=schema)\n",
    "def record_to_dict(row):\n",
    "    \"\"\"\n",
    "    Transform string into bovespa.Record\n",
    "    :param row: (string) position string from bovespa.\n",
    "    :return: parsed Record\n",
    "    \"\"\"\n",
    "    try:\n",
    "        record = bovespa.Record(row)\n",
    "    except:\n",
    "        return None\n",
    "    return {\n",
    "        'date': record.date, 'year': record.date.year,\n",
    "        'month': record.date.month, 'day': record.date.day,\n",
    "        'money_volume': record.volume,\n",
    "        'volume': record.quantity,\n",
    "        'stock_code': record.stock_code, 'company_name': record.company_name,\n",
    "        'price_open': record.price_open, 'price_close': record.price_close,\n",
    "        'price_mean': record.price_mean, 'price_high': record.price_high,\n",
    "        'price_low': record.price_low\n",
    "    }"
   ]
  },
  {
   "cell_type": "code",
   "execution_count": 7,
   "outputs": [],
   "source": [
    "dict_df = df_data.select(record_to_dict('value').alias('dict'))\n",
    "trading_df = dict_df.select(\"dict.*\", \"*\").drop('dict')"
   ],
   "metadata": {
    "collapsed": false,
    "pycharm": {
     "name": "#%%\n"
    }
   }
  },
  {
   "cell_type": "code",
   "execution_count": 8,
   "outputs": [],
   "source": [
    "trading_df =trading_df.withColumn('variation', (trading_df['price_close'] - trading_df['price_open']) / 100)"
   ],
   "metadata": {
    "collapsed": false,
    "pycharm": {
     "name": "#%%\n"
    }
   }
  },
  {
   "cell_type": "code",
   "execution_count": 9,
   "outputs": [
    {
     "name": "stdout",
     "output_type": "stream",
     "text": [
      "root\n",
      " |-- date: date (nullable = true)\n",
      " |-- year: integer (nullable = true)\n",
      " |-- month: integer (nullable = true)\n",
      " |-- day: integer (nullable = true)\n",
      " |-- money_volume: double (nullable = true)\n",
      " |-- volume: integer (nullable = true)\n",
      " |-- stock_code: string (nullable = true)\n",
      " |-- company_name: string (nullable = true)\n",
      " |-- price_open: double (nullable = true)\n",
      " |-- price_close: double (nullable = true)\n",
      " |-- price_mean: double (nullable = true)\n",
      " |-- price_high: double (nullable = true)\n",
      " |-- price_low: double (nullable = true)\n",
      " |-- variation: double (nullable = true)\n",
      "\n"
     ]
    }
   ],
   "source": [
    "trading_df.printSchema()"
   ],
   "metadata": {
    "collapsed": false,
    "pycharm": {
     "name": "#%%\n"
    }
   }
  },
  {
   "cell_type": "code",
   "execution_count": 10,
   "outputs": [],
   "source": [
    "trading_df = trading_df.repartition(\"stock_code\")"
   ],
   "metadata": {
    "collapsed": false,
    "pycharm": {
     "name": "#%%\n"
    }
   }
  },
  {
   "cell_type": "code",
   "execution_count": 11,
   "outputs": [
    {
     "name": "stdout",
     "output_type": "stream",
     "text": [
      "+----------+----+-----+---+------------+------+----------+------------+----------+-----------+----------+----------+---------+---------+\n",
      "|      date|year|month|day|money_volume|volume|stock_code|company_name|price_open|price_close|price_mean|price_high|price_low|variation|\n",
      "+----------+----+-----+---+------------+------+----------+------------+----------+-----------+----------+----------+---------+---------+\n",
      "|2020-03-11|2020|    3| 11|   1866254.0|   120|  IBOVP102|       IBOVE|   13800.0|    21500.0|  15552.11|   21500.0|  13000.0|     77.0|\n",
      "|2020-03-09|2020|    3|  9|  1.429667E8|  8260|  IBOVP105|       IBOVE|   15728.0|    22000.0|  17308.31|   22000.0|  15328.0|    62.72|\n",
      "|2020-03-11|2020|    3| 11| 5.5915076E7|  5015|   IBOVO96|       IBOVE|    7740.0|    14000.0|  11149.56|   14000.0|   7320.0|     62.6|\n",
      "|2020-03-18|2020|    3| 18|    484500.0|    28|   IBOVP85|       IBOVE|   16000.0|    22000.0|  17303.57|   22000.0|  16000.0|     60.0|\n",
      "|2020-03-11|2020|    3| 11|    280428.0|    29|   IBOVR90|    IBOVE FM|    7721.0|    13548.0|   9669.93|   13548.0|   7721.0|    58.27|\n",
      "|2020-04-24|2020|    4| 24|   8718186.0|  1474|   IBOVQ79|    IBOVE FM|    3819.0|     9350.0|   5914.64|    9350.0|   3819.0|    55.31|\n",
      "|2020-03-11|2020|    3| 11| 8.3715887E7|  6960|  IBOVR950|       IBOVE|    9223.0|    14028.0|  12028.14|   15000.0|   9223.0|    48.05|\n",
      "|2020-03-18|2020|    3| 18| 1.7360807E7|   392|  IBOVP110|       IBOVE|   41677.0|    46400.0|  44287.77|   46400.0|  41677.0|    47.23|\n",
      "|2020-03-11|2020|    3| 11| 1.9106986E7|  2418|   IBOVP92|    IBOVE FM|    6646.0|    11182.0|   7901.97|   11182.0|   6200.0|    45.36|\n",
      "|2020-03-18|2020|    3| 18|   3860180.0|   343|   IBOVP70|    IBOVE FM|    7500.0|    12000.0|  11254.16|   12000.0|   7150.0|     45.0|\n",
      "+----------+----+-----+---+------------+------+----------+------------+----------+-----------+----------+----------+---------+---------+\n",
      "only showing top 10 rows\n",
      "\n"
     ]
    }
   ],
   "source": [
    "trading_df.orderBy(F.col('variation'), ascending=False).show(10)"
   ],
   "metadata": {
    "collapsed": false,
    "pycharm": {
     "name": "#%%\n"
    }
   }
  },
  {
   "cell_type": "code",
   "execution_count": 12,
   "outputs": [
    {
     "name": "stdout",
     "output_type": "stream",
     "text": [
      "+----------+----+-----+---+---------------+---------+----------+------------+----------+-----------+----------+----------+---------+--------------------+\n",
      "|      date|year|month|day|   money_volume|   volume|stock_code|company_name|price_open|price_close|price_mean|price_high|price_low|           variation|\n",
      "+----------+----+-----+---+---------------+---------+----------+------------+----------+-----------+----------+----------+---------+--------------------+\n",
      "|2020-12-16|2020|   12| 16| 4.298379966E10|   365580|    IBOV11|    IBOVESPA|  117577.0|   117577.0|  117577.0|  117577.0| 117577.0|                 0.0|\n",
      "|2020-04-15|2020|    4| 15|3.2720218273E10|   412109|    IBOV11|    IBOVESPA|   79397.0|    79397.0|   79397.0|   79397.0|  79397.0|                 0.0|\n",
      "|2020-02-12|2020|    2| 12|2.2856435636E10|   195436|    IBOV11|    IBOVESPA|  116951.0|   116951.0|  116951.0|  116951.0| 116951.0|                 0.0|\n",
      "|2020-06-17|2020|    6| 17|2.0103332942E10|   209231|    IBOV11|    IBOVESPA|   96082.0|    96082.0|   96082.0|   96082.0|  96082.0|                 0.0|\n",
      "|2020-08-12|2020|    8| 12| 1.320667122E10|   130269|    IBOV11|    IBOVESPA|  101380.0|   101380.0|  101380.0|  101380.0| 101380.0|                 0.0|\n",
      "|2020-08-04|2020|    8|  4|1.0996395951E10|182535800|     VALE3|        VALE|     60.26|       60.7|     60.24|     60.84|    59.36|0.004400000000000048|\n",
      "|2020-10-14|2020|   10| 14|  9.707889168E9|    97716|    IBOV11|    IBOVESPA|   99348.0|    99348.0|   99348.0|   99348.0|  99348.0|                 0.0|\n",
      "|2020-03-18|2020|    3| 18|  8.550106056E9|   132453|    IBOV11|    IBOVESPA|   64552.0|    64552.0|   64552.0|   64552.0|  64552.0|                 0.0|\n",
      "|2020-11-18|2020|   11| 18|   7.36329072E9|    68955|    IBOV11|    IBOVESPA|  106784.0|   106784.0|  106784.0|  106784.0| 106784.0|                 0.0|\n",
      "|2020-11-16|2020|   11| 16|  5.833548296E9| 91477900|     VALE3|        VALE|      63.5|      64.92|     63.77|     65.34|    62.97|0.014200000000000016|\n",
      "+----------+----+-----+---+---------------+---------+----------+------------+----------+-----------+----------+----------+---------+--------------------+\n",
      "only showing top 10 rows\n",
      "\n"
     ]
    }
   ],
   "source": [
    "trading_df.orderBy(F.col('money_volume'), ascending=False).show(10)"
   ],
   "metadata": {
    "collapsed": false,
    "pycharm": {
     "name": "#%%\n"
    }
   }
  },
  {
   "cell_type": "code",
   "execution_count": 13,
   "metadata": {
    "collapsed": false,
    "editable": true,
    "jupyter": {
     "outputs_hidden": false
    },
    "pycharm": {
     "name": "#%%\n"
    }
   },
   "outputs": [
    {
     "name": "stdout",
     "output_type": "stream",
     "text": [
      "+----------+----+-----+---+------------+--------+----------+------------+----------+-----------+----------+----------+---------+--------------------+\n",
      "|      date|year|month|day|money_volume|  volume|stock_code|company_name|price_open|price_close|price_mean|price_high|price_low|           variation|\n",
      "+----------+----+-----+---+------------+--------+----------+------------+----------+-----------+----------+----------+---------+--------------------+\n",
      "|2020-01-02|2020|    1|  2|2.80483738E8|13591400|     GGBR4|      GERDAU|     20.13|      20.76|     20.63|     20.79|    20.12|0.006300000000000025|\n",
      "|2020-01-02|2020|    1|  2|    23011.02|    1751|    NVHO11|FII NOVOHORI|     13.01|      13.02|     13.14|     13.25|     13.0|9.999999999999786E-5|\n",
      "|2020-01-02|2020|    1|  2|    10306.76|      73|    CGAS3F|      COMGAS|    142.88|      140.3|    141.18|    142.88|    140.0|-0.02579999999999984|\n",
      "|2020-01-02|2020|    1|  2|     34460.3|   11854|    DMMO3F|       DOMMO|       3.0|       2.92|       2.9|       3.0|     2.86|-8.00000000000000...|\n",
      "|2020-01-02|2020|    1|  2|     4109.24|     509|    FRTA3F|  POMIFRUTAS|      7.51|       7.81|      8.07|      8.56|     7.51|0.002999999999999...|\n",
      "|2020-01-03|2020|    1|  3|     19101.5|     136|    CGAS3F|      COMGAS|    142.83|      138.0|    140.45|    142.88|    138.0|-0.04830000000000013|\n",
      "|2020-01-06|2020|    1|  6|    29925.62|     212|    CGAS3F|      COMGAS|     142.0|      140.0|    141.15|    145.99|   138.89|               -0.02|\n",
      "|2020-01-03|2020|    1|  3|    55974.95|   19383|    DMMO3F|       DOMMO|      2.92|       2.72|      2.88|      2.99|     2.72|-0.00199999999999...|\n",
      "|2020-01-06|2020|    1|  6|    65411.91|   25245|    DMMO3F|       DOMMO|      2.79|       2.45|      2.59|       2.9|     2.43|-0.00339999999999...|\n",
      "|2020-01-03|2020|    1|  3|     2186.44|     262|    FRTA3F|  POMIFRUTAS|      8.49|       8.47|      8.34|      8.49|     7.84|-1.99999999999995...|\n",
      "+----------+----+-----+---+------------+--------+----------+------------+----------+-----------+----------+----------+---------+--------------------+\n",
      "only showing top 10 rows\n",
      "\n"
     ]
    }
   ],
   "source": [
    "trading_df.show(10)"
   ]
  },
  {
   "cell_type": "markdown",
   "metadata": {
    "editable": true,
    "pycharm": {
     "name": "#%% md\n"
    }
   },
   "source": [
    "### So, we can take all insights from it.\n",
    "Such as:"
   ]
  },
  {
   "cell_type": "code",
   "execution_count": 14,
   "metadata": {
    "collapsed": false,
    "editable": true,
    "jupyter": {
     "outputs_hidden": false
    },
    "pycharm": {
     "name": "#%%\n"
    }
   },
   "outputs": [
    {
     "name": "stdout",
     "output_type": "stream",
     "text": [
      "+----------+----+-----+---+---------------+---------+----------+------------+----------+-----------+----------+----------+---------+--------------------+\n",
      "|      date|year|month|day|   money_volume|   volume|stock_code|company_name|price_open|price_close|price_mean|price_high|price_low|           variation|\n",
      "+----------+----+-----+---+---------------+---------+----------+------------+----------+-----------+----------+----------+---------+--------------------+\n",
      "|2020-12-16|2020|   12| 16| 4.298379966E10|   365580|    IBOV11|    IBOVESPA|  117577.0|   117577.0|  117577.0|  117577.0| 117577.0|                 0.0|\n",
      "|2020-04-15|2020|    4| 15|3.2720218273E10|   412109|    IBOV11|    IBOVESPA|   79397.0|    79397.0|   79397.0|   79397.0|  79397.0|                 0.0|\n",
      "|2020-02-12|2020|    2| 12|2.2856435636E10|   195436|    IBOV11|    IBOVESPA|  116951.0|   116951.0|  116951.0|  116951.0| 116951.0|                 0.0|\n",
      "|2020-06-17|2020|    6| 17|2.0103332942E10|   209231|    IBOV11|    IBOVESPA|   96082.0|    96082.0|   96082.0|   96082.0|  96082.0|                 0.0|\n",
      "|2020-08-12|2020|    8| 12| 1.320667122E10|   130269|    IBOV11|    IBOVESPA|  101380.0|   101380.0|  101380.0|  101380.0| 101380.0|                 0.0|\n",
      "|2020-08-04|2020|    8|  4|1.0996395951E10|182535800|     VALE3|        VALE|     60.26|       60.7|     60.24|     60.84|    59.36|0.004400000000000048|\n",
      "|2020-10-14|2020|   10| 14|  9.707889168E9|    97716|    IBOV11|    IBOVESPA|   99348.0|    99348.0|   99348.0|   99348.0|  99348.0|                 0.0|\n",
      "|2020-03-18|2020|    3| 18|  8.550106056E9|   132453|    IBOV11|    IBOVESPA|   64552.0|    64552.0|   64552.0|   64552.0|  64552.0|                 0.0|\n",
      "|2020-11-18|2020|   11| 18|   7.36329072E9|    68955|    IBOV11|    IBOVESPA|  106784.0|   106784.0|  106784.0|  106784.0| 106784.0|                 0.0|\n",
      "|2020-11-16|2020|   11| 16|  5.833548296E9| 91477900|     VALE3|        VALE|      63.5|      64.92|     63.77|     65.34|    62.97|0.014200000000000016|\n",
      "+----------+----+-----+---+---------------+---------+----------+------------+----------+-----------+----------+----------+---------+--------------------+\n",
      "only showing top 10 rows\n",
      "\n"
     ]
    }
   ],
   "source": [
    "# Most traded stocks in terms of money\n",
    "stocks = trading_df.orderBy('money_volume', ascending=False).show(10)"
   ]
  },
  {
   "cell_type": "code",
   "execution_count": 15,
   "metadata": {
    "collapsed": false,
    "editable": true,
    "jupyter": {
     "outputs_hidden": false
    },
    "pycharm": {
     "name": "#%%\n"
    }
   },
   "outputs": [
    {
     "name": "stdout",
     "output_type": "stream",
     "text": [
      "+----------+----+-----+---+------------+------+----------+------------+----------+-----------+----------+----------+---------+---------+\n",
      "|      date|year|month|day|money_volume|volume|stock_code|company_name|price_open|price_close|price_mean|price_high|price_low|variation|\n",
      "+----------+----+-----+---+------------+------+----------+------------+----------+-----------+----------+----------+---------+---------+\n",
      "|2020-03-11|2020|    3| 11|   1866254.0|   120|  IBOVP102|       IBOVE|   13800.0|    21500.0|  15552.11|   21500.0|  13000.0|     77.0|\n",
      "|2020-03-09|2020|    3|  9|  1.429667E8|  8260|  IBOVP105|       IBOVE|   15728.0|    22000.0|  17308.31|   22000.0|  15328.0|    62.72|\n",
      "|2020-03-11|2020|    3| 11| 5.5915076E7|  5015|   IBOVO96|       IBOVE|    7740.0|    14000.0|  11149.56|   14000.0|   7320.0|     62.6|\n",
      "|2020-03-18|2020|    3| 18|    484500.0|    28|   IBOVP85|       IBOVE|   16000.0|    22000.0|  17303.57|   22000.0|  16000.0|     60.0|\n",
      "|2020-03-11|2020|    3| 11|    280428.0|    29|   IBOVR90|    IBOVE FM|    7721.0|    13548.0|   9669.93|   13548.0|   7721.0|    58.27|\n",
      "|2020-04-24|2020|    4| 24|   8718186.0|  1474|   IBOVQ79|    IBOVE FM|    3819.0|     9350.0|   5914.64|    9350.0|   3819.0|    55.31|\n",
      "|2020-03-11|2020|    3| 11| 8.3715887E7|  6960|  IBOVR950|       IBOVE|    9223.0|    14028.0|  12028.14|   15000.0|   9223.0|    48.05|\n",
      "|2020-03-18|2020|    3| 18| 1.7360807E7|   392|  IBOVP110|       IBOVE|   41677.0|    46400.0|  44287.77|   46400.0|  41677.0|    47.23|\n",
      "|2020-03-11|2020|    3| 11| 1.9106986E7|  2418|   IBOVP92|    IBOVE FM|    6646.0|    11182.0|   7901.97|   11182.0|   6200.0|    45.36|\n",
      "|2020-03-18|2020|    3| 18|   3860180.0|   343|   IBOVP70|    IBOVE FM|    7500.0|    12000.0|  11254.16|   12000.0|   7150.0|     45.0|\n",
      "+----------+----+-----+---+------------+------+----------+------------+----------+-----------+----------+----------+---------+---------+\n",
      "only showing top 10 rows\n",
      "\n"
     ]
    }
   ],
   "source": [
    "# Most up variation in a day\n",
    "trading_df.orderBy('variation', ascending=False).show(10)"
   ]
  },
  {
   "cell_type": "code",
   "execution_count": 16,
   "outputs": [
    {
     "name": "stdout",
     "output_type": "stream",
     "text": [
      "Amount of rows 1251648\n"
     ]
    }
   ],
   "source": [
    "# Rows\n",
    "print('Amount of rows', trading_df.count())"
   ],
   "metadata": {
    "collapsed": false,
    "pycharm": {
     "name": "#%%\n"
    }
   }
  },
  {
   "cell_type": "markdown",
   "metadata": {
    "editable": true,
    "pycharm": {
     "name": "#%% md\n"
    }
   },
   "source": [
    "### ETL World Bank\n",
    "\n",
    "The `wbgapi` package is the official Python/R library to interact with the [World Bank open data](https://data.worldbank.org/),\n",
    "it is useful to easily retrieve data, instead of download it ourselves.\n",
    "\n",
    "The purpose is to fetch data from Brazil, then it will be possible to compare the stock market and the real economy."
   ]
  },
  {
   "cell_type": "code",
   "execution_count": 17,
   "metadata": {
    "editable": true
   },
   "outputs": [
    {
     "data": {
      "text/plain": "[{'id': '1',\n  'lastupdated': '2019-10-23',\n  'name': 'Doing Business',\n  'code': 'DBS',\n  'databid': '3001',\n  'description': '',\n  'url': '',\n  'dataavailability': 'Y',\n  'metadataavailability': 'Y',\n  'concepts': '3'},\n {'id': '2',\n  'lastupdated': '2021-04-26',\n  'name': 'World Development Indicators',\n  'code': 'WDI',\n  'databid': '2',\n  'description': '',\n  'url': '',\n  'dataavailability': 'Y',\n  'metadataavailability': 'Y',\n  'concepts': '3'},\n {'id': '3',\n  'lastupdated': '2020-09-28',\n  'name': 'Worldwide Governance Indicators',\n  'code': 'WGI',\n  'databid': '1181',\n  'description': '',\n  'url': '',\n  'dataavailability': 'Y',\n  'metadataavailability': 'Y',\n  'concepts': '3'}]"
     },
     "execution_count": 17,
     "metadata": {},
     "output_type": "execute_result"
    }
   ],
   "source": [
    "# Where data comes from\n",
    "wb.source.info().items[:3]"
   ]
  },
  {
   "cell_type": "code",
   "execution_count": 18,
   "metadata": {
    "editable": true
   },
   "outputs": [],
   "source": [
    "metric_to_schema = {\n",
    "    'GC.DOD.TOTL.GD.ZS': 'debt',\n",
    "    'GC.XPN.TOTL.CN': 'total_expense',\n",
    "    'NY.GDP.MKTP.KD.ZG': 'gdp_growth',\n",
    "    'NY.GDP.MKTP.CD': 'gdp',\n",
    "    'NY.GDP.PCAP.CD': 'gdp_per_capita',\n",
    "    'SP.POP.TOTL': 'population',\n",
    "    'SP.DYN.LE00.IN': 'life_expectancy',\n",
    "    'GC.XPN.TOTL.GD.ZS': 'expense_per_gdp',\n",
    "    'FI.RES.TOTL.CD': 'total_reserves',\n",
    "    'SE.ADT.LITR.ZS': 'pop_literacy_rate',\n",
    "    'SE.XPD.TOTL.GD.ZS': 'expenditure_education_per_gdp',\n",
    "    'BX.KLT.DINV.CD.WD': 'foreign_investment'\n",
    "}"
   ]
  },
  {
   "cell_type": "code",
   "execution_count": 19,
   "outputs": [
    {
     "data": {
      "text/plain": "[{'id': 'AG.AGR.TRAC.NO', 'value': 'Agricultural machinery, tractors'},\n {'id': 'AG.CON.FERT.PT.ZS',\n  'value': 'Fertilizer consumption (% of fertilizer production)'},\n {'id': 'AG.CON.FERT.ZS',\n  'value': 'Fertilizer consumption (kilograms per hectare of arable land)'}]"
     },
     "execution_count": 19,
     "metadata": {},
     "output_type": "execute_result"
    }
   ],
   "source": [
    "wb.series.info().items[:3]"
   ],
   "metadata": {
    "collapsed": false,
    "pycharm": {
     "name": "#%%\n"
    }
   }
  },
  {
   "cell_type": "code",
   "execution_count": 20,
   "outputs": [
    {
     "data": {
      "text/plain": "series  foreign_investment  total_reserves       debt  total_expense  \\\n1960                   NaN    4.328488e+08        NaN            NaN   \n1961                   NaN    4.711562e+08        NaN            NaN   \n1962                   NaN    3.360009e+08        NaN            NaN   \n1963                   NaN    3.550423e+08        NaN            NaN   \n1964                   NaN    2.454876e+08        NaN            NaN   \n...                    ...             ...        ...            ...   \n2016          7.429462e+10    3.649840e+11  73.418804   2.285774e+12   \n2017          6.888507e+10    3.739555e+11        NaN   2.387158e+12   \n2018          7.816257e+10    3.747097e+11        NaN   2.481853e+12   \n2019          6.917415e+10    3.568864e+11        NaN   2.572835e+12   \n2020                   NaN             NaN        NaN            NaN   \n\nseries  expense_per_gdp           gdp  gdp_growth  gdp_per_capita  \\\n1960                NaN  1.516557e+10         NaN      210.109899   \n1961                NaN  1.523685e+10   10.275912      205.040768   \n1962                NaN  1.992629e+10    5.216059      260.425653   \n1963                NaN  2.302148e+10    0.874673      292.252136   \n1964                NaN  2.121189e+10    3.485582      261.666620   \n...                 ...           ...         ...             ...   \n2016          36.459641  1.795700e+12   -3.275917     8710.096690   \n2017          36.260700  2.062831e+12    1.322869     9925.386238   \n2018          36.025396  1.885483e+12    1.317224     9001.234249   \n2019          35.453513  1.839758e+12    1.136586     8717.186278   \n2020                NaN           NaN         NaN             NaN   \n\nseries  pop_literacy_rate  expenditure_education_per_gdp  life_expectancy  \\\n1960                  NaN                            NaN           54.143   \n1961                  NaN                            NaN           54.634   \n1962                  NaN                            NaN           55.130   \n1963                  NaN                            NaN           55.627   \n1964                  NaN                            NaN           56.121   \n...                   ...                            ...              ...   \n2016            92.808441                        6.31404           75.230   \n2017            93.075821                        6.32255           75.456   \n2018            93.227501                            NaN           75.672   \n2019                  NaN                            NaN           75.881   \n2020                  NaN                            NaN              NaN   \n\nseries   population  year  \n1960     72179226.0  1960  \n1961     74311343.0  1961  \n1962     76514328.0  1962  \n1963     78772657.0  1963  \n1964     81064571.0  1964  \n...             ...   ...  \n2016    206163058.0  2016  \n2017    207833831.0  2017  \n2018    209469333.0  2018  \n2019    211049527.0  2019  \n2020            NaN  2020  \n\n[61 rows x 13 columns]",
      "text/html": "<div>\n<style scoped>\n    .dataframe tbody tr th:only-of-type {\n        vertical-align: middle;\n    }\n\n    .dataframe tbody tr th {\n        vertical-align: top;\n    }\n\n    .dataframe thead th {\n        text-align: right;\n    }\n</style>\n<table border=\"1\" class=\"dataframe\">\n  <thead>\n    <tr style=\"text-align: right;\">\n      <th>series</th>\n      <th>foreign_investment</th>\n      <th>total_reserves</th>\n      <th>debt</th>\n      <th>total_expense</th>\n      <th>expense_per_gdp</th>\n      <th>gdp</th>\n      <th>gdp_growth</th>\n      <th>gdp_per_capita</th>\n      <th>pop_literacy_rate</th>\n      <th>expenditure_education_per_gdp</th>\n      <th>life_expectancy</th>\n      <th>population</th>\n      <th>year</th>\n    </tr>\n  </thead>\n  <tbody>\n    <tr>\n      <th>1960</th>\n      <td>NaN</td>\n      <td>4.328488e+08</td>\n      <td>NaN</td>\n      <td>NaN</td>\n      <td>NaN</td>\n      <td>1.516557e+10</td>\n      <td>NaN</td>\n      <td>210.109899</td>\n      <td>NaN</td>\n      <td>NaN</td>\n      <td>54.143</td>\n      <td>72179226.0</td>\n      <td>1960</td>\n    </tr>\n    <tr>\n      <th>1961</th>\n      <td>NaN</td>\n      <td>4.711562e+08</td>\n      <td>NaN</td>\n      <td>NaN</td>\n      <td>NaN</td>\n      <td>1.523685e+10</td>\n      <td>10.275912</td>\n      <td>205.040768</td>\n      <td>NaN</td>\n      <td>NaN</td>\n      <td>54.634</td>\n      <td>74311343.0</td>\n      <td>1961</td>\n    </tr>\n    <tr>\n      <th>1962</th>\n      <td>NaN</td>\n      <td>3.360009e+08</td>\n      <td>NaN</td>\n      <td>NaN</td>\n      <td>NaN</td>\n      <td>1.992629e+10</td>\n      <td>5.216059</td>\n      <td>260.425653</td>\n      <td>NaN</td>\n      <td>NaN</td>\n      <td>55.130</td>\n      <td>76514328.0</td>\n      <td>1962</td>\n    </tr>\n    <tr>\n      <th>1963</th>\n      <td>NaN</td>\n      <td>3.550423e+08</td>\n      <td>NaN</td>\n      <td>NaN</td>\n      <td>NaN</td>\n      <td>2.302148e+10</td>\n      <td>0.874673</td>\n      <td>292.252136</td>\n      <td>NaN</td>\n      <td>NaN</td>\n      <td>55.627</td>\n      <td>78772657.0</td>\n      <td>1963</td>\n    </tr>\n    <tr>\n      <th>1964</th>\n      <td>NaN</td>\n      <td>2.454876e+08</td>\n      <td>NaN</td>\n      <td>NaN</td>\n      <td>NaN</td>\n      <td>2.121189e+10</td>\n      <td>3.485582</td>\n      <td>261.666620</td>\n      <td>NaN</td>\n      <td>NaN</td>\n      <td>56.121</td>\n      <td>81064571.0</td>\n      <td>1964</td>\n    </tr>\n    <tr>\n      <th>...</th>\n      <td>...</td>\n      <td>...</td>\n      <td>...</td>\n      <td>...</td>\n      <td>...</td>\n      <td>...</td>\n      <td>...</td>\n      <td>...</td>\n      <td>...</td>\n      <td>...</td>\n      <td>...</td>\n      <td>...</td>\n      <td>...</td>\n    </tr>\n    <tr>\n      <th>2016</th>\n      <td>7.429462e+10</td>\n      <td>3.649840e+11</td>\n      <td>73.418804</td>\n      <td>2.285774e+12</td>\n      <td>36.459641</td>\n      <td>1.795700e+12</td>\n      <td>-3.275917</td>\n      <td>8710.096690</td>\n      <td>92.808441</td>\n      <td>6.31404</td>\n      <td>75.230</td>\n      <td>206163058.0</td>\n      <td>2016</td>\n    </tr>\n    <tr>\n      <th>2017</th>\n      <td>6.888507e+10</td>\n      <td>3.739555e+11</td>\n      <td>NaN</td>\n      <td>2.387158e+12</td>\n      <td>36.260700</td>\n      <td>2.062831e+12</td>\n      <td>1.322869</td>\n      <td>9925.386238</td>\n      <td>93.075821</td>\n      <td>6.32255</td>\n      <td>75.456</td>\n      <td>207833831.0</td>\n      <td>2017</td>\n    </tr>\n    <tr>\n      <th>2018</th>\n      <td>7.816257e+10</td>\n      <td>3.747097e+11</td>\n      <td>NaN</td>\n      <td>2.481853e+12</td>\n      <td>36.025396</td>\n      <td>1.885483e+12</td>\n      <td>1.317224</td>\n      <td>9001.234249</td>\n      <td>93.227501</td>\n      <td>NaN</td>\n      <td>75.672</td>\n      <td>209469333.0</td>\n      <td>2018</td>\n    </tr>\n    <tr>\n      <th>2019</th>\n      <td>6.917415e+10</td>\n      <td>3.568864e+11</td>\n      <td>NaN</td>\n      <td>2.572835e+12</td>\n      <td>35.453513</td>\n      <td>1.839758e+12</td>\n      <td>1.136586</td>\n      <td>8717.186278</td>\n      <td>NaN</td>\n      <td>NaN</td>\n      <td>75.881</td>\n      <td>211049527.0</td>\n      <td>2019</td>\n    </tr>\n    <tr>\n      <th>2020</th>\n      <td>NaN</td>\n      <td>NaN</td>\n      <td>NaN</td>\n      <td>NaN</td>\n      <td>NaN</td>\n      <td>NaN</td>\n      <td>NaN</td>\n      <td>NaN</td>\n      <td>NaN</td>\n      <td>NaN</td>\n      <td>NaN</td>\n      <td>NaN</td>\n      <td>2020</td>\n    </tr>\n  </tbody>\n</table>\n<p>61 rows × 13 columns</p>\n</div>"
     },
     "execution_count": 20,
     "metadata": {},
     "output_type": "execute_result"
    }
   ],
   "source": [
    "# Create spark dataframe\n",
    "df_raw = wb.data.DataFrame(metric_to_schema.keys(), economy='BRA', numericTimeKeys=True)\n",
    "economy_data = df_raw.rename(metric_to_schema, axis=0)\n",
    "years= list(economy_data.columns)\n",
    "economy_data = economy_data.transpose()\n",
    "economy_data['year'] = years\n",
    "economy_data"
   ],
   "metadata": {
    "collapsed": false,
    "pycharm": {
     "name": "#%%\n"
    }
   }
  },
  {
   "cell_type": "code",
   "execution_count": 21,
   "outputs": [
    {
     "name": "stdout",
     "output_type": "stream",
     "text": [
      "root\n",
      " |-- foreign_investment: double (nullable = true)\n",
      " |-- total_reserves: double (nullable = true)\n",
      " |-- debt: double (nullable = true)\n",
      " |-- total_expense: double (nullable = true)\n",
      " |-- expense_per_gdp: double (nullable = true)\n",
      " |-- gdp: double (nullable = true)\n",
      " |-- gdp_growth: double (nullable = true)\n",
      " |-- gdp_per_capita: double (nullable = true)\n",
      " |-- pop_literacy_rate: double (nullable = true)\n",
      " |-- expenditure_education_per_gdp: double (nullable = true)\n",
      " |-- life_expectancy: double (nullable = true)\n",
      " |-- population: double (nullable = true)\n",
      " |-- year: long (nullable = true)\n",
      "\n"
     ]
    }
   ],
   "source": [
    "economy_df = spark.createDataFrame(economy_data)\n",
    "economy_df.printSchema()"
   ],
   "metadata": {
    "collapsed": false,
    "pycharm": {
     "name": "#%%\n"
    }
   }
  },
  {
   "cell_type": "code",
   "execution_count": 22,
   "outputs": [
    {
     "name": "stdout",
     "output_type": "stream",
     "text": [
      "+------------------+--------------+----+-------------+---------------+-------------------+-----------------+----------------+-----------------+-----------------------------+---------------+-----------+----+\n",
      "|foreign_investment|total_reserves|debt|total_expense|expense_per_gdp|                gdp|       gdp_growth|  gdp_per_capita|pop_literacy_rate|expenditure_education_per_gdp|life_expectancy| population|year|\n",
      "+------------------+--------------+----+-------------+---------------+-------------------+-----------------+----------------+-----------------+-----------------------------+---------------+-----------+----+\n",
      "|               NaN|    4.328488E8| NaN|          NaN|            NaN|1.51655699125199E10|              NaN|210.109899384623|              NaN|                          NaN|         54.143|7.2179226E7|1960|\n",
      "|               NaN|   4.7115615E8| NaN|          NaN|            NaN| 1.5236854859469E10|  10.275911554301| 205.04076826426|              NaN|                          NaN|         54.634|7.4311343E7|1961|\n",
      "|               NaN|    3.360009E8| NaN|          NaN|            NaN|1.99262938390163E10| 5.21605942017898|260.425653075282|              NaN|                          NaN|          55.13|7.6514328E7|1962|\n",
      "|               NaN|   3.5504232E8| NaN|          NaN|            NaN|2.30214772922093E10|0.874672592408302|292.252136324528|              NaN|                          NaN|         55.627|7.8772657E7|1963|\n",
      "|               NaN|    2.454876E8| NaN|          NaN|            NaN|2.12118922599904E10|  3.4855823042772| 261.66661956418|              NaN|                          NaN|         56.121|8.1064571E7|1964|\n",
      "|               NaN|   4.8425112E8| NaN|          NaN|            NaN|  2.179003511719E10| 3.05348789366924|261.354354519834|              NaN|                          NaN|          56.61| 8.337353E7|1965|\n",
      "|               NaN|   4.2579662E8| NaN|          NaN|            NaN|2.70627165779111E10| 4.15036023303348|315.797202907062|              NaN|                          NaN|         57.091|8.5696505E7|1966|\n",
      "|               NaN|    2.001496E8| NaN|          NaN|            NaN|3.05918340539653E10| 4.91526567501124|347.493056109702|              NaN|                          NaN|         57.563|8.8035814E7|1967|\n",
      "|               NaN|    2.664229E8| NaN|          NaN|            NaN|3.38758818763672E10| 11.4272823832672|374.786775401462|              NaN|                          NaN|         58.025|9.0387079E7|1968|\n",
      "|               NaN|    6.567732E8| NaN|          NaN|            NaN|3.74588982438609E10| 9.73582688991277|403.884267342212|              NaN|                          NaN|         58.475|9.2746614E7|1969|\n",
      "+------------------+--------------+----+-------------+---------------+-------------------+-----------------+----------------+-----------------+-----------------------------+---------------+-----------+----+\n",
      "only showing top 10 rows\n",
      "\n"
     ]
    }
   ],
   "source": [
    "economy_df.show(10)"
   ],
   "metadata": {
    "collapsed": false,
    "pycharm": {
     "name": "#%%\n"
    }
   }
  },
  {
   "cell_type": "markdown",
   "metadata": {
    "editable": true,
    "pycharm": {
     "name": "#%% md\n"
    }
   },
   "source": [
    "### Step 2: Explore and Assess the Data\n",
    "#### Explore the Data\n",
    "Identify data quality issues, like missing values, duplicate data, etc.\n",
    "\n",
    "#### Cleaning Steps\n",
    "Document steps necessary to clean the data"
   ]
  },
  {
   "cell_type": "code",
   "execution_count": 23,
   "outputs": [],
   "source": [
    "# Not necessary\n"
   ],
   "metadata": {
    "collapsed": false,
    "pycharm": {
     "name": "#%%\n"
    }
   }
  },
  {
   "cell_type": "markdown",
   "metadata": {
    "editable": true
   },
   "source": [
    "### Step 3: Define the Data Model\n",
    "#### 3.1 Conceptual Data Model\n",
    "Map out the conceptual data model and explain why you chose that model\n",
    "\n",
    "### Trading Table\n",
    "\n",
    "| Feature        | Type\n",
    "| ------------- |:-------------:|\n",
    "| date         | date    |\n",
    "| year         | integer |\n",
    "| month        | integer |\n",
    "| day          | integer |\n",
    "| money_volume | double  |\n",
    "| volume       | integer |\n",
    "| stock_code   | string  |\n",
    "| company_name | string  |\n",
    "| price_open   | double  |\n",
    "| price_close  | double  |\n",
    "| price_mean   | double  |\n",
    "| price_high   | double  |\n",
    "| price_low    | double  |\n",
    "| variation    | double  |\n",
    "\n",
    "### Economy Table\n",
    "\n",
    "| Feature        | Type  |\n",
    "| ------------- |:-------------:|\n",
    "| foreign_investment            | double |\n",
    "| total_reserves                | double |\n",
    "| debt                          | double |\n",
    "| total_expense                 | double |\n",
    "| expense_per_gdp               | double |\n",
    "| gdp                           | double |\n",
    "| gdp_growth                    | double |\n",
    "| gdp_per_capita                | double |\n",
    "| pop_literacy_rate             | double |\n",
    "| expenditure_education_per_gdp | double |\n",
    "| life_expectancy               | double |\n",
    "| population                    | double |\n",
    "| year                          | long   |\n",
    "\n",
    "#### 3.2 Mapping Out Data Pipelines\n",
    "\n",
    "1. Read trading data from bovespa\n",
    "2. Parse it then load into spark\n",
    "3. Process data creating custom columns\n",
    "4. Write it as parquet\n",
    "6. Read trading data from world bank as pandas\n",
    "7. Parse it then load into spark\n",
    "8. Process data creating custom columns\n",
    "9. Write it as parquet\n"
   ]
  },
  {
   "cell_type": "markdown",
   "metadata": {
    "editable": true
   },
   "source": [
    "### Step 4: Run Pipelines to Model the Data \n",
    "#### 4.1 Create the data model\n",
    "Build the data pipelines to create the data model.\n",
    "\n",
    "Complete flow can be found in `etl.py`"
   ]
  },
  {
   "cell_type": "code",
   "execution_count": 24,
   "metadata": {
    "editable": true
   },
   "outputs": [],
   "source": [
    "# Write code here\n",
    "\n",
    "def process_economy_data(spark, output_data):\n",
    "    \"\"\"\n",
    "    ETL Brazilian economy data from world bank\n",
    "    :param spark: (SparkSession) spark session instance\n",
    "    :param output_data: (string) output file path\n",
    "    :return: spark dataframe representing economy table\n",
    "    \"\"\"\n",
    "\n",
    "    economy_df = etl_functions.create_economy_df()\n",
    "    economy_df = spark.createDataFrame(economy_df)\n",
    "    return etl_functions.create_economy_table(economy_df, output_data)\n",
    "\n",
    "\n",
    "def process_trading_data(spark, trading_files, output_data):\n",
    "    \"\"\"\n",
    "    ETL trading data.\n",
    "    :param spark: (SparkSession) spark session instance\n",
    "    :param trading_files: (string) input file path\n",
    "    :param output_data: (string) output file path\n",
    "    :return: spark dataframe of trading data\n",
    "    \"\"\"\n",
    "\n",
    "    trading_df = spark.read.text(paths=trading_files)\n",
    "\n",
    "    trading_df = etl_functions.raw_trading_to_spark(trading_df)\n",
    "    trading_df = etl_functions.trading_columns(trading_df)\n",
    "\n",
    "    return etl_functions.create_trading_table(trading_df, output_data)\n",
    "\n",
    "def etl():\n",
    "    input_data = \"sample_data\"\n",
    "    output_data = \"sample_data/output\"\n",
    "\n",
    "    trading_files = os.path.join(input_data, \"COTAHIST_A*.txt\")\n",
    "\n",
    "    trading_df = process_trading_data(spark, trading_files, output_data)\n",
    "    economy_df = process_economy_data(spark, output_data)\n",
    "\n",
    "    etl_functions.quality_check(economy_df, 'economy')\n",
    "    etl_functions.quality_check(trading_df, 'trading')\n",
    "    etl_functions.quality_check_column(trading_df, 'stock_code')\n",
    "    etl_functions.quality_check_column(trading_df, 'date')\n",
    "    etl_functions.quality_check_column(trading_df, 'volume')\n",
    "    etl_functions.quality_check_column(economy_df, 'gdp')\n",
    "    etl_functions.quality_check_column(economy_df, 'year')\n"
   ]
  },
  {
   "cell_type": "markdown",
   "metadata": {
    "editable": true
   },
   "source": [
    "#### 4.2 Data Quality Checks\n",
    "Explain the data quality checks you'll perform to ensure the pipeline ran as expected. These could include:\n",
    " * Integrity constraints on the relational database (e.g., unique key, data type, etc.)\n",
    " * Unit tests for the scripts to ensure they are doing the right thing\n",
    " * Source/Count checks to ensure completeness\n",
    " \n",
    "Run Quality Checks"
   ]
  },
  {
   "cell_type": "code",
   "execution_count": 25,
   "outputs": [
    {
     "name": "stdout",
     "output_type": "stream",
     "text": [
      "Data quality check passed for economy with 61 records.\n",
      "Data quality check passed for trading with 1251648 records.\n",
      "Data quality check passed for table stock_code with 1251648 records.\n",
      "Data quality check passed for table date with 1251648 records.\n",
      "Data quality check passed for table volume with 1251646 records.\n",
      "Data quality check passed for table gdp with 61 records.\n",
      "Data quality check passed for table year with 61 records.\n"
     ]
    }
   ],
   "source": [
    "# Perform quality checks here\n",
    "etl_functions.quality_check(economy_df, 'economy')\n",
    "etl_functions.quality_check(trading_df, 'trading')\n",
    "etl_functions.quality_check_column(trading_df, 'stock_code')\n",
    "etl_functions.quality_check_column(trading_df, 'date')\n",
    "etl_functions.quality_check_column(trading_df, 'volume')\n",
    "etl_functions.quality_check_column(economy_df, 'gdp')\n",
    "etl_functions.quality_check_column(economy_df, 'year')"
   ],
   "metadata": {
    "collapsed": false,
    "pycharm": {
     "name": "#%%\n"
    }
   }
  },
  {
   "cell_type": "markdown",
   "metadata": {
    "editable": true
   },
   "source": [
    "#### 4.3 Data dictionary \n",
    "Create a data dictionary for your data model. For each field, provide a brief description of\n",
    "what the data is and where it came from. You can include the data dictionary in the notebook or in a separate file.\n",
    "\n",
    "### Trading Table\n",
    "\n",
    "Data comes from [Bovespa](http://www.b3.com.br/en_us/), it is the only regulated Brazilian exchange.\n",
    "\n",
    "| Feature      | Description  |\n",
    "| ------------:|:------------:|\n",
    "| date         | date that stock is being traded                      |\n",
    "| year         | year that stock is being traded                      |\n",
    "| month        | month that stock is being traded                     |\n",
    "| day          | day that stock is being traded                       |\n",
    "| money_volume | total amount of money in all transactions            |\n",
    "| volume       | total number traded stocks                           |\n",
    "| stock_code   | unique stock code                                    |\n",
    "| company_name | name of the company that is represented by the stock |\n",
    "| price_open   | price when trading opened                            |\n",
    "| price_close  | price when trading closed                            |\n",
    "| price_mean   | price mean of the stock                              |\n",
    "| price_high   | price high of the stock                              |\n",
    "| price_low    | price low of the stock                               |\n",
    "| variation    | the variation between price close and price open     |\n",
    "\n",
    "### Economy Table\n",
    "\n",
    "Data comes from [World Bank Open Data](https://data.worldbank.org/).\n",
    "\n",
    "| Feature        | Description  |\n",
    "| ------------- |:-------------:|\n",
    "| foreign_investment            | investment made by others countries                                       |\n",
    "| total_reserves                | total reserve of money owned by the government (usually dollars and gold) |\n",
    "| debt                          | total country debt (external and internal)                                |\n",
    "| total_expense                 | total money spent in a year by the government                             |\n",
    "| expense_per_gdp               | percentage of expense per total gdp                                       |\n",
    "| gdp                           | total gdp (in dolllars)                                                   |\n",
    "| gdp_growth                    | gdp growth percentage                                                     |\n",
    "| gdp_per_capita                | total gdp divided by total population                                     |\n",
    "| pop_literacy_rate             | rate of people knows how to read                                          |\n",
    "| expenditure_education_per_gdp | amount of money spent in education divided by total gdp                   |\n",
    "| life_expectancy               | population life expectancy                                                |\n",
    "| population                    | total population                                                          |\n",
    "| year                          | year that metrics was collected                                           |"
   ]
  },
  {
   "cell_type": "markdown",
   "metadata": {
    "editable": true
   },
   "source": [
    "#### Step 5: Complete Project Write Up\n",
    "* Clearly state the rationale for the choice of tools and technologies for the project.\n",
    "* Propose how often the data should be updated and why.\n",
    "* Write a description of how you would approach the problem differently under the following scenarios:\n",
    "\n",
    "#### Scenarios\n",
    "\n",
    "* The data was increased by 100x.\n",
    "Create airflow data pipelines to run spark partitioned by date, currently it is not so well optimized for multiple worker nodes.\n",
    "Airflow can easily handle with multiple integrations, it integrates with Spark, S3, a large amount of databases, also there is a\n",
    "user-friendly front end.\n",
    "\n",
    "* The data populates a dashboard that must be updated on a daily basis by 7am every day.\n",
    "Create an AWS lambda that would be triggered at that time, or an airflow pipeline.\n",
    "\n",
    "* The database needed to be accessed by 100+ people.\n",
    "Send data to an AWS Kinesis, and connect it to a data visualization tool, such as Tableu, or PowerBI, what would offload database from heavy aggregations at the same time."
   ]
  },
  {
   "cell_type": "markdown",
   "metadata": {
    "editable": true,
    "pycharm": {
     "name": "#%% md\n"
    }
   },
   "source": [
    "##### Technologies\n",
    "\n",
    "**Spark** is way faster and simpler then all other data processing systems, like pandas for example,\n",
    "it also is very flexible when it comes to apply functions. The best of all, it is possible to use it like SQL.\n",
    "\n",
    "Data can be easily loaded into s3 or any other data lake, spark makes it easy.\n",
    "\n",
    "##### Data update\n",
    "\n",
    "Data may be updated yearly, because economy data takes time to be collected by the World Bank.\n",
    "Trading data is only updated monthly by the Bovespa exchange.\n",
    "\n",
    "##### Data schema\n",
    "\n",
    "Star schema, besides it increase data redundancy, what usually is an anti-pattern, it is used because aggregation performance\n",
    "hugely increases. The is join, but the is not so much need of it as in snowflake data schema.\n",
    "The data analysis I propose heavily rely on groupby, orderby, etc.\n"
   ]
  }
 ],
 "metadata": {
  "kernelspec": {
   "display_name": "Python 3",
   "language": "python",
   "name": "python3"
  },
  "language_info": {
   "codemirror_mode": {
    "name": "ipython",
    "version": 3
   },
   "file_extension": ".py",
   "mimetype": "text/x-python",
   "name": "python",
   "nbconvert_exporter": "python",
   "pygments_lexer": "ipython3",
   "version": "3.6.3"
  }
 },
 "nbformat": 4,
 "nbformat_minor": 4
}