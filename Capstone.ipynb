{
 "cells": [
  {
   "cell_type": "markdown",
   "metadata": {
    "editable": true
   },
   "source": [
    "# Data Engineering Capstone Project\n",
    "\n",
    "#### Project Summary\n",
    "The Capstone project analyses and process data from Brazilian stock market since 2013 until now. Also,\n",
    "the Brazilian economic data from [World Bank](https://data.worldbank.org/).\n",
    "\n",
    "With those data in mind, it is possible to evaluate and take insights, relate country data with stock market.\n",
    "Basically to answer questions like:\n",
    "* Does the stock market influence real economy?\n",
    "* Is the population's education rate related to the increase in GDP?\n",
    "* The raising of company in stock market help us somehow?\n",
    "\n",
    "\n",
    "The project follows the follow steps:\n",
    "* Step 1: Scope the Project and Gather Data\n",
    "* Step 2: Explore and Assess the Data\n",
    "* Step 3: Define the Data Model\n",
    "* Step 4: Run ETL to Model the Data\n",
    "* Step 5: Complete Project Write Up"
   ]
  },
  {
   "cell_type": "code",
   "execution_count": 1,
   "outputs": [
    {
     "name": "stdout",
     "output_type": "stream",
     "text": [
      "Requirement already satisfied: bovespa in ./env/lib/python3.8/site-packages (0.1.0)\r\n",
      "^C\r\n",
      "Traceback (most recent call last):\r\n",
      "  File \"/home/charl3ff/workspace/udacity/capstone-udacity-data-engineer/env/bin/pip\", line 8, in <module>\r\n",
      "    sys.exit(main())\r\n",
      "  File \"/home/charl3ff/workspace/udacity/capstone-udacity-data-engineer/env/lib/python3.8/site-packages/pip/_internal/cli/main.py\", line 73, in main\r\n",
      "    return command.main(cmd_args)\r\n",
      "  File \"/home/charl3ff/workspace/udacity/capstone-udacity-data-engineer/env/lib/python3.8/site-packages/pip/_internal/cli/base_command.py\", line 111, in main\r\n",
      "    return self._main(args)\r\n",
      "  File \"/home/charl3ff/workspace/udacity/capstone-udacity-data-engineer/env/lib/python3.8/site-packages/pip/_internal/cli/base_command.py\", line 226, in _main\r\n",
      "    self.handle_pip_version_check(options)\r\n",
      "  File \"/home/charl3ff/workspace/udacity/capstone-udacity-data-engineer/env/lib/python3.8/site-packages/pip/_internal/cli/req_command.py\", line 151, in handle_pip_version_check\r\n",
      "    pip_self_version_check(session, options)\r\n",
      "  File \"/home/charl3ff/workspace/udacity/capstone-udacity-data-engineer/env/lib/python3.8/site-packages/pip/_internal/self_outdated_check.py\", line 160, in pip_self_version_check\r\n",
      "    best_candidate = finder.find_best_candidate(\"pip\").best_candidate\r\n",
      "  File \"/home/charl3ff/workspace/udacity/capstone-udacity-data-engineer/env/lib/python3.8/site-packages/pip/_internal/index/package_finder.py\", line 872, in find_best_candidate\r\n",
      "    candidates = self.find_all_candidates(project_name)\r\n",
      "  File \"/home/charl3ff/workspace/udacity/capstone-udacity-data-engineer/env/lib/python3.8/site-packages/pip/_internal/index/package_finder.py\", line 815, in find_all_candidates\r\n",
      "    package_links = self.process_project_url(\r\n",
      "  File \"/home/charl3ff/workspace/udacity/capstone-udacity-data-engineer/env/lib/python3.8/site-packages/pip/_internal/index/package_finder.py\", line 779, in process_project_url\r\n",
      "    html_page = self._link_collector.fetch_page(project_url)\r\n",
      "  File \"/home/charl3ff/workspace/udacity/capstone-udacity-data-engineer/env/lib/python3.8/site-packages/pip/_internal/index/collector.py\", line 617, in fetch_page\r\n",
      "    return _get_html_page(location, session=self.session)\r\n",
      "  File \"/home/charl3ff/workspace/udacity/capstone-udacity-data-engineer/env/lib/python3.8/site-packages/pip/_internal/index/collector.py\", line 429, in _get_html_page\r\n",
      "    resp = _get_html_response(url, session=session)\r\n",
      "  File \"/home/charl3ff/workspace/udacity/capstone-udacity-data-engineer/env/lib/python3.8/site-packages/pip/_internal/index/collector.py\", line 126, in _get_html_response\r\n",
      "    resp = session.get(\r\n",
      "  File \"/home/charl3ff/workspace/udacity/capstone-udacity-data-engineer/env/lib/python3.8/site-packages/pip/_vendor/requests/sessions.py\", line 555, in get\r\n",
      "    return self.request('GET', url, **kwargs)\r\n",
      "  File \"/home/charl3ff/workspace/udacity/capstone-udacity-data-engineer/env/lib/python3.8/site-packages/pip/_internal/network/session.py\", line 424, in request\r\n",
      "    return super().request(method, url, *args, **kwargs)\r\n",
      "  File \"/home/charl3ff/workspace/udacity/capstone-udacity-data-engineer/env/lib/python3.8/site-packages/pip/_vendor/requests/sessions.py\", line 542, in request\r\n",
      "    resp = self.send(prep, **send_kwargs)\r\n",
      "  File \"/home/charl3ff/workspace/udacity/capstone-udacity-data-engineer/env/lib/python3.8/site-packages/pip/_vendor/requests/sessions.py\", line 655, in send\r\n",
      "    r = adapter.send(request, **kwargs)\r\n",
      "  File \"/home/charl3ff/workspace/udacity/capstone-udacity-data-engineer/env/lib/python3.8/site-packages/pip/_vendor/cachecontrol/adapter.py\", line 53, in send\r\n",
      "    resp = super(CacheControlAdapter, self).send(request, **kw)\r\n",
      "  File \"/home/charl3ff/workspace/udacity/capstone-udacity-data-engineer/env/lib/python3.8/site-packages/pip/_vendor/requests/adapters.py\", line 439, in send\r\n",
      "    resp = conn.urlopen(\r\n",
      "  File \"/home/charl3ff/workspace/udacity/capstone-udacity-data-engineer/env/lib/python3.8/site-packages/pip/_vendor/urllib3/connectionpool.py\", line 699, in urlopen\r\n",
      "    httplib_response = self._make_request(\r\n",
      "  File \"/home/charl3ff/workspace/udacity/capstone-udacity-data-engineer/env/lib/python3.8/site-packages/pip/_vendor/urllib3/connectionpool.py\", line 382, in _make_request\r\n",
      "    self._validate_conn(conn)\r\n",
      "  File \"/home/charl3ff/workspace/udacity/capstone-udacity-data-engineer/env/lib/python3.8/site-packages/pip/_vendor/urllib3/connectionpool.py\", line 1010, in _validate_conn\r\n",
      "    conn.connect()\r\n",
      "  File \"/home/charl3ff/workspace/udacity/capstone-udacity-data-engineer/env/lib/python3.8/site-packages/pip/_vendor/urllib3/connection.py\", line 353, in connect\r\n",
      "    conn = self._new_conn()\r\n",
      "  File \"/home/charl3ff/workspace/udacity/capstone-udacity-data-engineer/env/lib/python3.8/site-packages/pip/_vendor/urllib3/connection.py\", line 169, in _new_conn\r\n",
      "    conn = connection.create_connection(\r\n",
      "  File \"/home/charl3ff/workspace/udacity/capstone-udacity-data-engineer/env/lib/python3.8/site-packages/pip/_vendor/urllib3/util/connection.py\", line 73, in create_connection\r\n",
      "    for res in socket.getaddrinfo(host, port, family, socket.SOCK_STREAM):\r\n",
      "  File \"/usr/lib/python3.8/socket.py\", line 918, in getaddrinfo\r\n",
      "    for res in _socket.getaddrinfo(host, port, family, type, proto, flags):\r\n",
      "KeyboardInterrupt\r\n"
     ]
    },
    {
     "ename": "UnboundLocalError",
     "evalue": "local variable 'child' referenced before assignment",
     "output_type": "error",
     "traceback": [
      "\u001B[0;31m---------------------------------------------------------------------------\u001B[0m",
      "\u001B[0;31mKeyboardInterrupt\u001B[0m                         Traceback (most recent call last)",
      "\u001B[0;32m~/workspace/udacity/capstone-udacity-data-engineer/env/lib/python3.8/site-packages/IPython/utils/_process_posix.py\u001B[0m in \u001B[0;36msystem\u001B[0;34m(self, cmd)\u001B[0m\n\u001B[1;32m    156\u001B[0m             \u001B[0;32melse\u001B[0m\u001B[0;34m:\u001B[0m\u001B[0;34m\u001B[0m\u001B[0;34m\u001B[0m\u001B[0m\n\u001B[0;32m--> 157\u001B[0;31m                 \u001B[0mchild\u001B[0m \u001B[0;34m=\u001B[0m \u001B[0mpexpect\u001B[0m\u001B[0;34m.\u001B[0m\u001B[0mspawn\u001B[0m\u001B[0;34m(\u001B[0m\u001B[0mself\u001B[0m\u001B[0;34m.\u001B[0m\u001B[0msh\u001B[0m\u001B[0;34m,\u001B[0m \u001B[0margs\u001B[0m\u001B[0;34m=\u001B[0m\u001B[0;34m[\u001B[0m\u001B[0;34m'-c'\u001B[0m\u001B[0;34m,\u001B[0m \u001B[0mcmd\u001B[0m\u001B[0;34m]\u001B[0m\u001B[0;34m)\u001B[0m  \u001B[0;31m# Vanilla Pexpect\u001B[0m\u001B[0;34m\u001B[0m\u001B[0;34m\u001B[0m\u001B[0m\n\u001B[0m\u001B[1;32m    158\u001B[0m             \u001B[0mflush\u001B[0m \u001B[0;34m=\u001B[0m \u001B[0msys\u001B[0m\u001B[0;34m.\u001B[0m\u001B[0mstdout\u001B[0m\u001B[0;34m.\u001B[0m\u001B[0mflush\u001B[0m\u001B[0;34m\u001B[0m\u001B[0;34m\u001B[0m\u001B[0m\n",
      "\u001B[0;32m~/workspace/udacity/capstone-udacity-data-engineer/env/lib/python3.8/site-packages/pexpect/pty_spawn.py\u001B[0m in \u001B[0;36m__init__\u001B[0;34m(self, command, args, timeout, maxread, searchwindowsize, logfile, cwd, env, ignore_sighup, echo, preexec_fn, encoding, codec_errors, dimensions, use_poll)\u001B[0m\n\u001B[1;32m    204\u001B[0m         \u001B[0;32melse\u001B[0m\u001B[0;34m:\u001B[0m\u001B[0;34m\u001B[0m\u001B[0;34m\u001B[0m\u001B[0m\n\u001B[0;32m--> 205\u001B[0;31m             \u001B[0mself\u001B[0m\u001B[0;34m.\u001B[0m\u001B[0m_spawn\u001B[0m\u001B[0;34m(\u001B[0m\u001B[0mcommand\u001B[0m\u001B[0;34m,\u001B[0m \u001B[0margs\u001B[0m\u001B[0;34m,\u001B[0m \u001B[0mpreexec_fn\u001B[0m\u001B[0;34m,\u001B[0m \u001B[0mdimensions\u001B[0m\u001B[0;34m)\u001B[0m\u001B[0;34m\u001B[0m\u001B[0;34m\u001B[0m\u001B[0m\n\u001B[0m\u001B[1;32m    206\u001B[0m         \u001B[0mself\u001B[0m\u001B[0;34m.\u001B[0m\u001B[0muse_poll\u001B[0m \u001B[0;34m=\u001B[0m \u001B[0muse_poll\u001B[0m\u001B[0;34m\u001B[0m\u001B[0;34m\u001B[0m\u001B[0m\n",
      "\u001B[0;32m~/workspace/udacity/capstone-udacity-data-engineer/env/lib/python3.8/site-packages/pexpect/pty_spawn.py\u001B[0m in \u001B[0;36m_spawn\u001B[0;34m(self, command, args, preexec_fn, dimensions)\u001B[0m\n\u001B[1;32m    302\u001B[0m \u001B[0;34m\u001B[0m\u001B[0m\n\u001B[0;32m--> 303\u001B[0;31m         self.ptyproc = self._spawnpty(self.args, env=self.env,\n\u001B[0m\u001B[1;32m    304\u001B[0m                                      cwd=self.cwd, **kwargs)\n",
      "\u001B[0;32m~/workspace/udacity/capstone-udacity-data-engineer/env/lib/python3.8/site-packages/pexpect/pty_spawn.py\u001B[0m in \u001B[0;36m_spawnpty\u001B[0;34m(self, args, **kwargs)\u001B[0m\n\u001B[1;32m    314\u001B[0m         \u001B[0;34m'''Spawn a pty and return an instance of PtyProcess.'''\u001B[0m\u001B[0;34m\u001B[0m\u001B[0;34m\u001B[0m\u001B[0m\n\u001B[0;32m--> 315\u001B[0;31m         \u001B[0;32mreturn\u001B[0m \u001B[0mptyprocess\u001B[0m\u001B[0;34m.\u001B[0m\u001B[0mPtyProcess\u001B[0m\u001B[0;34m.\u001B[0m\u001B[0mspawn\u001B[0m\u001B[0;34m(\u001B[0m\u001B[0margs\u001B[0m\u001B[0;34m,\u001B[0m \u001B[0;34m**\u001B[0m\u001B[0mkwargs\u001B[0m\u001B[0;34m)\u001B[0m\u001B[0;34m\u001B[0m\u001B[0;34m\u001B[0m\u001B[0m\n\u001B[0m\u001B[1;32m    316\u001B[0m \u001B[0;34m\u001B[0m\u001B[0m\n",
      "\u001B[0;32m~/workspace/udacity/capstone-udacity-data-engineer/env/lib/python3.8/site-packages/ptyprocess/ptyprocess.py\u001B[0m in \u001B[0;36mspawn\u001B[0;34m(cls, argv, cwd, env, echo, preexec_fn, dimensions, pass_fds)\u001B[0m\n\u001B[1;32m    314\u001B[0m         \u001B[0mos\u001B[0m\u001B[0;34m.\u001B[0m\u001B[0mclose\u001B[0m\u001B[0;34m(\u001B[0m\u001B[0mexec_err_pipe_write\u001B[0m\u001B[0;34m)\u001B[0m\u001B[0;34m\u001B[0m\u001B[0;34m\u001B[0m\u001B[0m\n\u001B[0;32m--> 315\u001B[0;31m         \u001B[0mexec_err_data\u001B[0m \u001B[0;34m=\u001B[0m \u001B[0mos\u001B[0m\u001B[0;34m.\u001B[0m\u001B[0mread\u001B[0m\u001B[0;34m(\u001B[0m\u001B[0mexec_err_pipe_read\u001B[0m\u001B[0;34m,\u001B[0m \u001B[0;36m4096\u001B[0m\u001B[0;34m)\u001B[0m\u001B[0;34m\u001B[0m\u001B[0;34m\u001B[0m\u001B[0m\n\u001B[0m\u001B[1;32m    316\u001B[0m         \u001B[0mos\u001B[0m\u001B[0;34m.\u001B[0m\u001B[0mclose\u001B[0m\u001B[0;34m(\u001B[0m\u001B[0mexec_err_pipe_read\u001B[0m\u001B[0;34m)\u001B[0m\u001B[0;34m\u001B[0m\u001B[0;34m\u001B[0m\u001B[0m\n",
      "\u001B[0;31mKeyboardInterrupt\u001B[0m: ",
      "\nDuring handling of the above exception, another exception occurred:\n",
      "\u001B[0;31mUnboundLocalError\u001B[0m                         Traceback (most recent call last)",
      "\u001B[0;32m<ipython-input-1-32228199905c>\u001B[0m in \u001B[0;36m<module>\u001B[0;34m\u001B[0m\n\u001B[1;32m      1\u001B[0m \u001B[0mget_ipython\u001B[0m\u001B[0;34m(\u001B[0m\u001B[0;34m)\u001B[0m\u001B[0;34m.\u001B[0m\u001B[0msystem\u001B[0m\u001B[0;34m(\u001B[0m\u001B[0;34m'pip install bovespa'\u001B[0m\u001B[0;34m)\u001B[0m\u001B[0;34m\u001B[0m\u001B[0;34m\u001B[0m\u001B[0m\n\u001B[0;32m----> 2\u001B[0;31m \u001B[0mget_ipython\u001B[0m\u001B[0;34m(\u001B[0m\u001B[0;34m)\u001B[0m\u001B[0;34m.\u001B[0m\u001B[0msystem\u001B[0m\u001B[0;34m(\u001B[0m\u001B[0;34m'pip install pyspark'\u001B[0m\u001B[0;34m)\u001B[0m\u001B[0;34m\u001B[0m\u001B[0;34m\u001B[0m\u001B[0m\n\u001B[0m\u001B[1;32m      3\u001B[0m \u001B[0mget_ipython\u001B[0m\u001B[0;34m(\u001B[0m\u001B[0;34m)\u001B[0m\u001B[0;34m.\u001B[0m\u001B[0msystem\u001B[0m\u001B[0;34m(\u001B[0m\u001B[0;34m'pip install psycopg2'\u001B[0m\u001B[0;34m)\u001B[0m\u001B[0;34m\u001B[0m\u001B[0;34m\u001B[0m\u001B[0m\n\u001B[1;32m      4\u001B[0m \u001B[0mget_ipython\u001B[0m\u001B[0;34m(\u001B[0m\u001B[0;34m)\u001B[0m\u001B[0;34m.\u001B[0m\u001B[0msystem\u001B[0m\u001B[0;34m(\u001B[0m\u001B[0;34m'pip install wbgapi'\u001B[0m\u001B[0;34m)\u001B[0m\u001B[0;34m\u001B[0m\u001B[0;34m\u001B[0m\u001B[0m\n\u001B[1;32m      5\u001B[0m \u001B[0mget_ipython\u001B[0m\u001B[0;34m(\u001B[0m\u001B[0;34m)\u001B[0m\u001B[0;34m.\u001B[0m\u001B[0msystem\u001B[0m\u001B[0;34m(\u001B[0m\u001B[0;34m'pip install matplotlib'\u001B[0m\u001B[0;34m)\u001B[0m\u001B[0;34m\u001B[0m\u001B[0;34m\u001B[0m\u001B[0m\n",
      "\u001B[0;32m~/workspace/udacity/capstone-udacity-data-engineer/env/lib/python3.8/site-packages/ipykernel/zmqshell.py\u001B[0m in \u001B[0;36msystem_piped\u001B[0;34m(self, cmd)\u001B[0m\n\u001B[1;32m    645\u001B[0m                 \u001B[0mself\u001B[0m\u001B[0;34m.\u001B[0m\u001B[0muser_ns\u001B[0m\u001B[0;34m[\u001B[0m\u001B[0;34m'_exit_code'\u001B[0m\u001B[0;34m]\u001B[0m \u001B[0;34m=\u001B[0m \u001B[0msystem\u001B[0m\u001B[0;34m(\u001B[0m\u001B[0mcmd\u001B[0m\u001B[0;34m)\u001B[0m\u001B[0;34m\u001B[0m\u001B[0;34m\u001B[0m\u001B[0m\n\u001B[1;32m    646\u001B[0m         \u001B[0;32melse\u001B[0m\u001B[0;34m:\u001B[0m\u001B[0;34m\u001B[0m\u001B[0;34m\u001B[0m\u001B[0m\n\u001B[0;32m--> 647\u001B[0;31m             \u001B[0mself\u001B[0m\u001B[0;34m.\u001B[0m\u001B[0muser_ns\u001B[0m\u001B[0;34m[\u001B[0m\u001B[0;34m'_exit_code'\u001B[0m\u001B[0;34m]\u001B[0m \u001B[0;34m=\u001B[0m \u001B[0msystem\u001B[0m\u001B[0;34m(\u001B[0m\u001B[0mself\u001B[0m\u001B[0;34m.\u001B[0m\u001B[0mvar_expand\u001B[0m\u001B[0;34m(\u001B[0m\u001B[0mcmd\u001B[0m\u001B[0;34m,\u001B[0m \u001B[0mdepth\u001B[0m\u001B[0;34m=\u001B[0m\u001B[0;36m1\u001B[0m\u001B[0;34m)\u001B[0m\u001B[0;34m)\u001B[0m\u001B[0;34m\u001B[0m\u001B[0;34m\u001B[0m\u001B[0m\n\u001B[0m\u001B[1;32m    648\u001B[0m \u001B[0;34m\u001B[0m\u001B[0m\n\u001B[1;32m    649\u001B[0m     \u001B[0;31m# Ensure new system_piped implementation is used\u001B[0m\u001B[0;34m\u001B[0m\u001B[0;34m\u001B[0m\u001B[0;34m\u001B[0m\u001B[0m\n",
      "\u001B[0;32m~/workspace/udacity/capstone-udacity-data-engineer/env/lib/python3.8/site-packages/IPython/utils/_process_posix.py\u001B[0m in \u001B[0;36msystem\u001B[0;34m(self, cmd)\u001B[0m\n\u001B[1;32m    171\u001B[0m             \u001B[0;31m# (the character is known as ETX for 'End of Text', see\u001B[0m\u001B[0;34m\u001B[0m\u001B[0;34m\u001B[0m\u001B[0;34m\u001B[0m\u001B[0m\n\u001B[1;32m    172\u001B[0m             \u001B[0;31m# curses.ascii.ETX).\u001B[0m\u001B[0;34m\u001B[0m\u001B[0;34m\u001B[0m\u001B[0;34m\u001B[0m\u001B[0m\n\u001B[0;32m--> 173\u001B[0;31m             \u001B[0mchild\u001B[0m\u001B[0;34m.\u001B[0m\u001B[0msendline\u001B[0m\u001B[0;34m(\u001B[0m\u001B[0mchr\u001B[0m\u001B[0;34m(\u001B[0m\u001B[0;36m3\u001B[0m\u001B[0;34m)\u001B[0m\u001B[0;34m)\u001B[0m\u001B[0;34m\u001B[0m\u001B[0;34m\u001B[0m\u001B[0m\n\u001B[0m\u001B[1;32m    174\u001B[0m             \u001B[0;31m# Read and print any more output the program might produce on its\u001B[0m\u001B[0;34m\u001B[0m\u001B[0;34m\u001B[0m\u001B[0;34m\u001B[0m\u001B[0m\n\u001B[1;32m    175\u001B[0m             \u001B[0;31m# way out.\u001B[0m\u001B[0;34m\u001B[0m\u001B[0;34m\u001B[0m\u001B[0;34m\u001B[0m\u001B[0m\n",
      "\u001B[0;31mUnboundLocalError\u001B[0m: local variable 'child' referenced before assignment"
     ]
    }
   ],
   "source": [
    "!pip install bovespa\n",
    "!pip install pyspark\n",
    "!pip install psycopg2\n",
    "!pip install wbgapi\n",
    "!pip install matplotlib\n",
    "!pip install configparser\n",
    "!pip install pyarrow"
   ],
   "metadata": {
    "collapsed": false,
    "pycharm": {
     "name": "#%%\n"
    }
   }
  },
  {
   "cell_type": "code",
   "execution_count": null,
   "metadata": {
    "editable": true
   },
   "outputs": [],
   "source": [
    "# Do all imports and installs here\n",
    "import pandas as pd\n",
    "import bovespa\n",
    "import os\n",
    "from pyspark.sql import SparkSession\n",
    "from pyspark.sql.types import StructType, StructField, StringType, IntegerType, FloatType, DateType\n",
    "import psycopg2\n",
    "import psycopg2.extras\n",
    "import wbgapi as wb\n",
    "import configparser\n",
    "from pyspark.sql.functions import col, collect_set, sum, avg, max, countDistinct, count"
   ]
  },
  {
   "cell_type": "markdown",
   "metadata": {
    "editable": true
   },
   "source": [
    "### Step 1: Scope the Project and Gather Data\n",
    "\n",
    "#### Scope\n",
    "The Capstone project analyses and process data from Brazilian stock market since 2013 until now. Also,\n",
    "the Brazilian economic data from [World Bank](https://data.worldbank.org/).\n",
    "\n",
    "#### Describe and Gather Data\n",
    "Describe the data sets you're using. Where did it come from? What type of information is included?\n",
    "\n",
    "Bovespa is the main Brazilian stock Exchange. Here is listed all trading data since 2013.\n",
    "\n",
    "It includes the day of the trading, company name, stock id, stock data, such as: price open, price close, price high, price low.\n",
    "\n",
    "World Bank collects all data from all country in the world, since 1960.\n",
    "It has information about environment, education, GDP, economy, social.\n",
    "http://www.b3.com.br/en_us/market-data-and-indices/data-services/market-data/historical-data/equities/historical-quotes/\n",
    "https://api.worldbank.org/v2/en/country/BRA?downloadformat=csv\n"
   ]
  },
  {
   "cell_type": "code",
   "execution_count": null,
   "metadata": {
    "editable": true,
    "pycharm": {
     "name": "#%%\n"
    }
   },
   "outputs": [],
   "source": [
    "config = configparser.ConfigParser()\n",
    "config.read('config.cfg')\n",
    "\n",
    "os.environ['AWS_ACCESS_KEY_ID'] = config['AWS']['AWS_ACCESS_KEY_ID']\n",
    "os.environ['AWS_SECRET_ACCESS_KEY'] = config['AWS']['AWS_SECRET_ACCESS_KEY']"
   ]
  },
  {
   "cell_type": "code",
   "execution_count": null,
   "outputs": [],
   "source": [
    "os.environ['JAVA_HOME'] = ''\n",
    "spark = SparkSession.builder.enableHiveSupport().config('spark.sql.execution.arrow.pyspark.enabled',\n",
    "                                                        \"true\").getOrCreate()"
   ],
   "metadata": {
    "collapsed": false,
    "pycharm": {
     "name": "#%%\n"
    }
   }
  },
  {
   "cell_type": "markdown",
   "source": [
    "### ETL stock market"
   ],
   "metadata": {
    "collapsed": false,
    "pycharm": {
     "name": "#%% md\n"
    }
   }
  },
  {
   "cell_type": "code",
   "execution_count": null,
   "outputs": [],
   "source": [
    "# Load data trading data from bovespa\n",
    "\n",
    "input_data = \"s3://capstone-data-1/\"\n",
    "trading_file = input_data + \"COTAHIST_*.txt\"\n",
    "\n",
    "df = spark.read.text(trading_file)\n",
    "df_pd = df.toPandas()"
   ],
   "metadata": {
    "collapsed": false,
    "pycharm": {
     "name": "#%%\n"
    }
   }
  },
  {
   "cell_type": "code",
   "execution_count": null,
   "outputs": [],
   "source": [
    "# Parse data\n",
    "\n",
    "def record_to_dict(record):\n",
    "    try:\n",
    "        record = bovespa.Record(record)\n",
    "    except:\n",
    "        return None\n",
    "    return {\n",
    "        'date': record.date, 'year': record.date.year, 'month': record.date.month, 'day': record.date.day,\n",
    "        'money_volume': record.volume, 'volume': record.quantity,\n",
    "        'stock_code': record.stock_code,\n",
    "        'company_name': record.company_name, 'price_open': record.price_open,\n",
    "        'price_close': record.price_close, 'price_mean': record.price_mean,\n",
    "        'price_high': record.price_high, 'price_low': record.price_low,\n",
    "        'variation': None\n",
    "    }\n"
   ],
   "metadata": {
    "collapsed": false,
    "pycharm": {
     "name": "#%%\n"
    }
   }
  },
  {
   "cell_type": "code",
   "execution_count": null,
   "outputs": [],
   "source": [
    "# Load trading data into our schema\n",
    "\n",
    "df_pd['dict'] = df_pd['value'].apply(lambda x: record_to_dict(x))\n",
    "new_df = df_pd['dict'].apply(pd.Series).replace('', None)\n",
    "\n",
    "schema = StructType([\n",
    "    StructField('date', DateType(), True),\n",
    "    StructField('year', IntegerType(), True),\n",
    "    StructField('month', IntegerType(), True),\n",
    "    StructField('day', IntegerType(), True),\n",
    "    StructField('money_volume', FloatType(), True),\n",
    "    StructField('volume', IntegerType(), True),\n",
    "    StructField('stock_code', StringType(), True),\n",
    "    StructField('company_name', StringType(), True),\n",
    "    StructField('price_open', FloatType(), True),\n",
    "    StructField('price_close', FloatType(), True),\n",
    "    StructField('price_mean', FloatType(), True),\n",
    "    StructField('price_high', FloatType(), True),\n",
    "    StructField('price_low', FloatType(), True),\n",
    "    StructField('variation', FloatType(), True)\n",
    "])\n",
    "\n",
    "trading_df = spark.createDataFrame(new_df, schema=schema)"
   ],
   "metadata": {
    "collapsed": false,
    "pycharm": {
     "name": "#%%\n"
    }
   }
  },
  {
   "cell_type": "code",
   "execution_count": null,
   "outputs": [],
   "source": [
    "# Set variation column\n",
    "\n",
    "trading_df = trading_df.withColumn('variation', (col('price_close') - col('price_open')) / 100)\n",
    "\n",
    "trading_df.show(10)"
   ],
   "metadata": {
    "collapsed": false,
    "pycharm": {
     "name": "#%%\n"
    }
   }
  },
  {
   "cell_type": "markdown",
   "source": [
    "### So, we can take all insights from it.\n",
    "Such as:"
   ],
   "metadata": {
    "collapsed": false,
    "pycharm": {
     "name": "#%% md\n"
    }
   }
  },
  {
   "cell_type": "code",
   "execution_count": null,
   "outputs": [],
   "source": [
    "# Most traded stocks in terms of money\n",
    "trading_df.orderBy('money_volume', ascending=False).show(20)"
   ],
   "metadata": {
    "collapsed": false,
    "pycharm": {
     "name": "#%%\n"
    }
   }
  },
  {
   "cell_type": "code",
   "execution_count": null,
   "outputs": [],
   "source": [
    "# Most up variation in a day\n",
    "trading_df.orderBy('variation', ascending=False).show(20)"
   ],
   "metadata": {
    "collapsed": false,
    "pycharm": {
     "name": "#%%\n"
    }
   }
  },
  {
   "cell_type": "markdown",
   "source": [
    "### ETL World Bank\n",
    "\n",
    "The `wbgapi` package is the official Python/R library to interact with the [World Bank open data](https://data.worldbank.org/),\n",
    "it is useful to easily retrieve data, instead of download it ourselves.\n",
    "\n",
    "The purpose is to fetch data from Brazil, then it will be possible to compare the stock market and the real economy."
   ],
   "metadata": {
    "collapsed": false,
    "pycharm": {
     "name": "#%% md\n"
    }
   }
  },
  {
   "cell_type": "code",
   "execution_count": null,
   "metadata": {
    "editable": true
   },
   "outputs": [],
   "source": [
    "# Metrics related to gdp\n",
    "wb.series.info(q='gdp')\n",
    "\n",
    "# Metrics related to debt, and so on\n",
    "wb.series.info(q='debt')"
   ]
  },
  {
   "cell_type": "code",
   "execution_count": null,
   "metadata": {
    "editable": true
   },
   "outputs": [],
   "source": [
    "metric_to_schema = {\n",
    "    'GC.DOD.TOTL.GD.ZS': 'debt',\n",
    "    'GC.XPN.TOTL.CN': 'total_expense',\n",
    "    'NY.GDP.MKTP.KD.ZG': 'gdp_annual_growth',\n",
    "    'NY.GDP.MKTP.CD': 'gdp',\n",
    "    'NY.GDP.PCAP.CD': 'gdp_per_capita',\n",
    "    'SP.POP.TOTL': 'population',\n",
    "    'SP.DYN.LE00.IN': 'life_expectancy',\n",
    "    'GC.XPN.TOTL.GD.ZS': 'expense_per_gdp',\n",
    "    'FI.RES.TOTL.CD': 'total_reserves',\n",
    "    'SE.ADT.LITR.ZS': 'pop_literacy_rate',\n",
    "    'SE.XPD.TOTL.GD.ZS': 'expenditure_education_per_gdp',\n",
    "    'BX.KLT.DINV.CD.WD': 'foreign_investment',\n",
    "}"
   ]
  },
  {
   "cell_type": "code",
   "execution_count": 2,
   "outputs": [
    {
     "ename": "NameError",
     "evalue": "name 'metric_to_schema' is not defined",
     "output_type": "error",
     "traceback": [
      "\u001B[0;31m---------------------------------------------------------------------------\u001B[0m",
      "\u001B[0;31mNameError\u001B[0m                                 Traceback (most recent call last)",
      "\u001B[0;32m<ipython-input-2-799eb80610e5>\u001B[0m in \u001B[0;36m<module>\u001B[0;34m\u001B[0m\n\u001B[1;32m      2\u001B[0m \u001B[0mcountry\u001B[0m \u001B[0;34m=\u001B[0m \u001B[0;34m'BRA'\u001B[0m\u001B[0;34m\u001B[0m\u001B[0;34m\u001B[0m\u001B[0m\n\u001B[1;32m      3\u001B[0m \u001B[0mvalues\u001B[0m \u001B[0;34m=\u001B[0m \u001B[0;34m[\u001B[0m\u001B[0;34m]\u001B[0m\u001B[0;34m\u001B[0m\u001B[0;34m\u001B[0m\u001B[0m\n\u001B[0;32m----> 4\u001B[0;31m \u001B[0;32mfor\u001B[0m \u001B[0mkey\u001B[0m\u001B[0;34m,\u001B[0m \u001B[0mvalue\u001B[0m \u001B[0;32min\u001B[0m \u001B[0mmetric_to_schema\u001B[0m\u001B[0;34m.\u001B[0m\u001B[0mitems\u001B[0m\u001B[0;34m(\u001B[0m\u001B[0;34m)\u001B[0m\u001B[0;34m:\u001B[0m\u001B[0;34m\u001B[0m\u001B[0;34m\u001B[0m\u001B[0m\n\u001B[0m\u001B[1;32m      5\u001B[0m     \u001B[0mdf\u001B[0m \u001B[0;34m=\u001B[0m \u001B[0mwb\u001B[0m\u001B[0;34m.\u001B[0m\u001B[0mdata\u001B[0m\u001B[0;34m.\u001B[0m\u001B[0mDataFrame\u001B[0m\u001B[0;34m(\u001B[0m\u001B[0mkey\u001B[0m\u001B[0;34m,\u001B[0m \u001B[0meconomy\u001B[0m\u001B[0;34m=\u001B[0m\u001B[0mcountry\u001B[0m\u001B[0;34m,\u001B[0m \u001B[0mcolumns\u001B[0m\u001B[0;34m=\u001B[0m\u001B[0;34m'time'\u001B[0m\u001B[0;34m,\u001B[0m \u001B[0mnumericTimeKeys\u001B[0m\u001B[0;34m=\u001B[0m\u001B[0;32mTrue\u001B[0m\u001B[0;34m)\u001B[0m\u001B[0;34m.\u001B[0m\u001B[0mdropna\u001B[0m\u001B[0;34m(\u001B[0m\u001B[0maxis\u001B[0m\u001B[0;34m=\u001B[0m\u001B[0;36m1\u001B[0m\u001B[0;34m,\u001B[0m \u001B[0mhow\u001B[0m\u001B[0;34m=\u001B[0m\u001B[0;34m'all'\u001B[0m\u001B[0;34m)\u001B[0m\u001B[0;34m\u001B[0m\u001B[0;34m\u001B[0m\u001B[0m\n\u001B[1;32m      6\u001B[0m     \u001B[0;32mfor\u001B[0m \u001B[0mdata\u001B[0m \u001B[0;32min\u001B[0m \u001B[0mdf\u001B[0m\u001B[0;34m.\u001B[0m\u001B[0mitems\u001B[0m\u001B[0;34m(\u001B[0m\u001B[0;34m)\u001B[0m\u001B[0;34m:\u001B[0m\u001B[0;34m\u001B[0m\u001B[0;34m\u001B[0m\u001B[0m\n",
      "\u001B[0;31mNameError\u001B[0m: name 'metric_to_schema' is not defined"
     ]
    }
   ],
   "source": [
    "# Load data into pandas\n",
    "country = 'BRA'\n",
    "values = []\n",
    "for key, value in metric_to_schema.items():\n",
    "    df = wb.data.DataFrame(key, economy=country, columns='time', numericTimeKeys=True).dropna(axis=1, how='all')\n",
    "    for data in df.items():\n",
    "        values.append((data[0], value, data[1][country]))\n",
    "economy_df = pd.DataFrame(data=values, columns=['year', 'table', 'value'])\n",
    "economy_df = spark.createDataFrame(economy_df)"
   ],
   "metadata": {
    "collapsed": false,
    "pycharm": {
     "name": "#%%\n"
    }
   }
  },
  {
   "cell_type": "markdown",
   "metadata": {
    "editable": true,
    "pycharm": {
     "name": "#%% md\n"
    }
   },
   "source": [
    "### Step 2: Explore and Assess the Data\n",
    "#### Explore the Data \n",
    "Identify data quality issues, like missing values, duplicate data, etc.\n",
    "\n",
    "#### Cleaning Steps\n",
    "Document steps necessary to clean the data"
   ]
  },
  {
   "cell_type": "code",
   "execution_count": null,
   "metadata": {
    "editable": true
   },
   "outputs": [],
   "source": [
    "# Performing cleaning tasks here\n",
    "\n",
    "\n"
   ]
  },
  {
   "cell_type": "markdown",
   "metadata": {
    "editable": true
   },
   "source": [
    "### Step 3: Define the Data Model\n",
    "#### 3.1 Conceptual Data Model\n",
    "Map out the conceptual data model and explain why you chose that model\n",
    "\n",
    "### Trading Table\n",
    "\n",
    "| Feature        | Description  |\n",
    "| ------------- |:-------------:|\n",
    "| date         | date that stock is being traded                      |\n",
    "| year         | year that stock is being traded                      |\n",
    "| month        | month that stock is being traded                     |\n",
    "| day          | day that stock is being traded                       |\n",
    "| money_volume | total amount of money in all transactions            |\n",
    "| volume       | total number traded stocks                           |\n",
    "| stock_code   | unique stock code                                    |\n",
    "| company_name | name of the company that is represented by the stock |\n",
    "| price_open   | price when trading opened                            |\n",
    "| price_close  | price when trading closed                            |\n",
    "| price_mean   | price mean of the stock                              |\n",
    "| price_high   | price high of the stock                              |\n",
    "| price_low    | price low of the stock                               |\n",
    "| variation    | the variation between price close and price open     |\n",
    "\n",
    "### Economy Table\n",
    "\n",
    "| Feature        | Description  |\n",
    "| ------------- |:-------------:|\n",
    "| year  | the year the statics was collected           |\n",
    "| table | the statics itself, like, GDP, debt over GDP |\n",
    "| value | the value of the statics                     |\n",
    "\n",
    "#### 3.2 Mapping Out Data Pipelines\n",
    "List the steps necessary to pipeline the data into the chosen data model"
   ]
  },
  {
   "cell_type": "markdown",
   "metadata": {
    "editable": true
   },
   "source": [
    "### Step 4: Run Pipelines to Model the Data \n",
    "#### 4.1 Create the data model\n",
    "Build the data pipelines to create the data model."
   ]
  },
  {
   "cell_type": "code",
   "execution_count": null,
   "metadata": {
    "editable": true
   },
   "outputs": [],
   "source": [
    "# Write code here"
   ]
  },
  {
   "cell_type": "markdown",
   "metadata": {
    "editable": true
   },
   "source": [
    "#### 4.2 Data Quality Checks\n",
    "Explain the data quality checks you'll perform to ensure the pipeline ran as expected. These could include:\n",
    " * Integrity constraints on the relational database (e.g., unique key, data type, etc.)\n",
    " * Unit tests for the scripts to ensure they are doing the right thing\n",
    " * Source/Count checks to ensure completeness\n",
    " \n",
    "Run Quality Checks"
   ]
  },
  {
   "cell_type": "code",
   "execution_count": null,
   "metadata": {
    "editable": true
   },
   "outputs": [],
   "source": [
    "# Perform quality checks here"
   ]
  },
  {
   "cell_type": "markdown",
   "metadata": {
    "editable": true
   },
   "source": [
    "#### 4.3 Data dictionary \n",
    "Create a data dictionary for your data model. For each field, provide a brief description of what the data is and where it came from. You can include the data dictionary in the notebook or in a separate file."
   ]
  },
  {
   "cell_type": "markdown",
   "metadata": {
    "editable": true
   },
   "source": [
    "#### Step 5: Complete Project Write Up\n",
    "* Clearly state the rationale for the choice of tools and technologies for the project.\n",
    "* Propose how often the data should be updated and why.\n",
    "* Write a description of how you would approach the problem differently under the following scenarios:\n",
    " * The data was increased by 100x.\n",
    " * The data populates a dashboard that must be updated on a daily basis by 7am every day.\n",
    " * The database needed to be accessed by 100+ people."
   ]
  },
  {
   "cell_type": "code",
   "execution_count": null,
   "metadata": {
    "editable": true,
    "pycharm": {
     "name": "#%%\n"
    }
   },
   "outputs": [],
   "source": []
  }
 ],
 "metadata": {
  "kernelspec": {
   "display_name": "Python 3",
   "language": "python",
   "name": "python3"
  },
  "language_info": {
   "codemirror_mode": {
    "name": "ipython",
    "version": 3
   },
   "file_extension": ".py",
   "mimetype": "text/x-python",
   "name": "python",
   "nbconvert_exporter": "python",
   "pygments_lexer": "ipython3",
   "version": "3.6.3"
  }
 },
 "nbformat": 4,
 "nbformat_minor": 4
}