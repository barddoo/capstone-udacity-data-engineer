{
 "cells": [
  {
   "cell_type": "markdown",
   "metadata": {
    "editable": true
   },
   "source": [
    "# Data Engineering Capstone Project\n",
    "\n",
    "#### Project Summary\n",
    "The Capstone project analyses and process data from Brazilian stock market since 2013 until now. Also,\n",
    "the Brazilian economic data from [World Bank](https://data.worldbank.org/).\n",
    "\n",
    "With those data in mind, it is possible to evaluate and take insights, relate country data with stock market.\n",
    "Basically to answer questions like:\n",
    "* Does the stock market influence real economy?\n",
    "* Is the population's education rate related to the increase in GDP?\n",
    "* The raising of company in stock market help us somehow?\n",
    "\n",
    "\n",
    "The project follows the follow steps:\n",
    "* Step 1: Scope the Project and Gather Data\n",
    "* Step 2: Explore and Assess the Data\n",
    "* Step 3: Define the Data Model\n",
    "* Step 4: Run ETL to Model the Data\n",
    "* Step 5: Complete Project Write Up"
   ]
  },
  {
   "cell_type": "code",
   "execution_count": 20,
   "outputs": [
    {
     "name": "stdout",
     "output_type": "stream",
     "text": [
      "Requirement already satisfied: bovespa in ./env/lib/python3.8/site-packages (0.1.0)\r\n",
      "Requirement already satisfied: pyspark in ./env/lib/python3.8/site-packages (3.1.1)\r\n",
      "Requirement already satisfied: py4j==0.10.9 in ./env/lib/python3.8/site-packages (from pyspark) (0.10.9)\r\n",
      "Requirement already satisfied: psycopg2 in ./env/lib/python3.8/site-packages (2.8.6)\r\n",
      "Requirement already satisfied: wbgapi in ./env/lib/python3.8/site-packages (1.0.5)\r\n",
      "Requirement already satisfied: PyYAML in ./env/lib/python3.8/site-packages (from wbgapi) (5.4.1)\r\n",
      "Requirement already satisfied: requests in ./env/lib/python3.8/site-packages (from wbgapi) (2.25.1)\r\n",
      "Requirement already satisfied: tabulate in ./env/lib/python3.8/site-packages (from wbgapi) (0.8.9)\r\n",
      "Requirement already satisfied: urllib3<1.27,>=1.21.1 in ./env/lib/python3.8/site-packages (from requests->wbgapi) (1.26.4)\r\n",
      "Requirement already satisfied: idna<3,>=2.5 in ./env/lib/python3.8/site-packages (from requests->wbgapi) (2.10)\r\n",
      "Requirement already satisfied: certifi>=2017.4.17 in ./env/lib/python3.8/site-packages (from requests->wbgapi) (2020.12.5)\r\n",
      "Requirement already satisfied: chardet<5,>=3.0.2 in ./env/lib/python3.8/site-packages (from requests->wbgapi) (4.0.0)\r\n",
      "Requirement already satisfied: matplotlib in ./env/lib/python3.8/site-packages (3.4.1)\r\n",
      "Requirement already satisfied: pyparsing>=2.2.1 in ./env/lib/python3.8/site-packages (from matplotlib) (2.4.7)\r\n",
      "Requirement already satisfied: numpy>=1.16 in ./env/lib/python3.8/site-packages (from matplotlib) (1.20.2)\r\n",
      "Requirement already satisfied: cycler>=0.10 in ./env/lib/python3.8/site-packages (from matplotlib) (0.10.0)\r\n",
      "Requirement already satisfied: pillow>=6.2.0 in ./env/lib/python3.8/site-packages (from matplotlib) (8.2.0)\r\n",
      "Requirement already satisfied: kiwisolver>=1.0.1 in ./env/lib/python3.8/site-packages (from matplotlib) (1.3.1)\r\n",
      "Requirement already satisfied: python-dateutil>=2.7 in ./env/lib/python3.8/site-packages (from matplotlib) (2.8.1)\r\n",
      "Requirement already satisfied: six in ./env/lib/python3.8/site-packages (from cycler>=0.10->matplotlib) (1.15.0)\r\n",
      "Requirement already satisfied: configparser in ./env/lib/python3.8/site-packages (5.0.2)\r\n"
     ]
    }
   ],
   "source": [
    "!pip install bovespa\n",
    "!pip install pyspark\n",
    "!pip install psycopg2\n",
    "!pip install wbgapi\n",
    "!pip install matplotlib\n",
    "!pip install configparser"
   ],
   "metadata": {
    "collapsed": false,
    "pycharm": {
     "name": "#%%\n"
    }
   }
  },
  {
   "cell_type": "code",
   "execution_count": 21,
   "metadata": {
    "editable": true
   },
   "outputs": [],
   "source": [
    "import os\n",
    "\n",
    "import bovespa\n",
    "import configparser\n",
    "import pandas as pd\n",
    "import wbgapi as wb\n",
    "from pyspark.sql import SparkSession\n",
    "from pyspark.sql.types import StructType, StructField, StringType, IntegerType, DateType, DoubleType"
   ]
  },
  {
   "cell_type": "markdown",
   "metadata": {
    "editable": true
   },
   "source": [
    "### Step 1: Scope the Project and Gather Data\n",
    "\n",
    "#### Scope\n",
    "The Capstone project analyses and process data from Brazilian stock market since 2013 until now. Also,\n",
    "the Brazilian economic data from [World Bank](https://data.worldbank.org/).\n",
    "\n",
    "#### Describe and Gather Data\n",
    "Describe the data sets you're using. Where did it come from? What type of information is included?\n",
    "\n",
    "Bovespa is the main Brazilian stock Exchange. Here is listed all trading data since 2013.\n",
    "\n",
    "It includes the day of the trading, company name, stock id, stock data, such as: price open, price close, price high, price low.\n",
    "\n",
    "World Bank collects all data from all country in the world, since 1960.\n",
    "It has information about environment, education, GDP, economy, social.\n",
    "http://www.b3.com.br/en_us/market-data-and-indices/data-services/market-data/historical-data/equities/historical-quotes/\n",
    "https://api.worldbank.org/v2/en/country/BRA?downloadformat=csv\n"
   ]
  },
  {
   "cell_type": "code",
   "execution_count": 22,
   "metadata": {
    "editable": true,
    "pycharm": {
     "name": "#%%\n"
    }
   },
   "outputs": [],
   "source": [
    "config = configparser.ConfigParser()\n",
    "config.read('config.cfg')\n",
    "\n",
    "os.environ['AWS_ACCESS_KEY_ID'] = config['AWS']['AWS_ACCESS_KEY_ID']\n",
    "os.environ['AWS_SECRET_ACCESS_KEY'] = config['AWS']['AWS_SECRET_ACCESS_KEY']"
   ]
  },
  {
   "cell_type": "code",
   "execution_count": 23,
   "outputs": [],
   "source": [
    "os.environ['JAVA_HOME'] = '/home/charl3ff/.sdkman/candidates/java/current'\n",
    "spark = SparkSession.builder.enableHiveSupport()\\\n",
    "    .appName(\"Capstone\")\\\n",
    "    .config(\"spark.jars.packages\", \"org.apache.hadoop:hadoop-aws:3.3.0\")\\\n",
    "    .getOrCreate()"
   ],
   "metadata": {
    "collapsed": false,
    "pycharm": {
     "name": "#%%\n"
    }
   }
  },
  {
   "cell_type": "markdown",
   "source": [
    "### ETL stock market"
   ],
   "metadata": {
    "collapsed": false,
    "pycharm": {
     "name": "#%% md\n"
    }
   }
  },
  {
   "cell_type": "code",
   "execution_count": 24,
   "outputs": [],
   "source": [
    "# Load data trading data from bovespa\n",
    "\n",
    "input_data = \"sample_data/\"\n",
    "trading_file = input_data + \"COTAHIST*.txt\"\n",
    "\n",
    "df = spark.read.text(trading_file)"
   ],
   "metadata": {
    "collapsed": false,
    "pycharm": {
     "name": "#%%\n"
    }
   }
  },
  {
   "cell_type": "code",
   "execution_count": 25,
   "outputs": [],
   "source": [
    "# Parse data\n",
    "\n",
    "def record_to_dict(record):\n",
    "    \"\"\"\n",
    "    Transform string into bovespa.Record\n",
    "    :param record: (string) position string from bovespa.\n",
    "    :return: parsed Record\n",
    "    \"\"\"\n",
    "    try:\n",
    "        record = bovespa.Record(record)\n",
    "    except:\n",
    "        return None\n",
    "    return {\n",
    "        'date': record.date, 'year': record.date.year,\n",
    "        'month': record.date.month, 'day': record.date.day,\n",
    "        'money_volume': record.volume, 'volume': record.quantity,\n",
    "        'stock_code': record.stock_code, 'company_name': record.company_name,\n",
    "        'price_open': record.price_open, 'price_close': record.price_close,\n",
    "        'price_mean': record.price_mean, 'price_high': record.price_high,\n",
    "        'price_low': record.price_low\n",
    "    }\n"
   ],
   "metadata": {
    "collapsed": false,
    "pycharm": {
     "name": "#%%\n"
    }
   }
  },
  {
   "cell_type": "code",
   "execution_count": 26,
   "outputs": [],
   "source": [
    "# Load trading data into our schema\n",
    "\n",
    "raw_df = df.toPandas()\n",
    "raw_df['dict'] = raw_df['value'].apply(lambda x: record_to_dict(x))\n",
    "raw_df = raw_df['dict'].apply(pd.Series)\n",
    "raw_df.replace(r\"^\\s*$\", float(\"NaN\"), regex=True, inplace=True)\n",
    "raw_df['money_volume'] = pd.to_numeric(raw_df['money_volume'], errors='coerce')\n",
    "raw_df['volume'] = pd.to_numeric(raw_df['volume'], errors='coerce', downcast='integer')\n",
    "raw_df['variation'] = (raw_df['price_close'] / raw_df['price_open']) / 100\n",
    "raw_df = raw_df.dropna()"
   ],
   "metadata": {
    "collapsed": false,
    "pycharm": {
     "name": "#%%\n"
    }
   }
  },
  {
   "cell_type": "code",
   "execution_count": 27,
   "outputs": [],
   "source": [
    "schema = StructType([\n",
    "    StructField('date', DateType(), True),\n",
    "    StructField('year', IntegerType(), True),\n",
    "    StructField('month', IntegerType(), True),\n",
    "    StructField('day', IntegerType(), True),\n",
    "    StructField('money_volume', DoubleType(), True),\n",
    "    StructField('volume', IntegerType(), True),\n",
    "    StructField('stock_code', StringType(), True),\n",
    "    StructField('company_name', StringType(), True),\n",
    "    StructField('price_open', DoubleType(), True),\n",
    "    StructField('price_close', DoubleType(), True),\n",
    "    StructField('price_mean', DoubleType(), True),\n",
    "    StructField('price_high', DoubleType(), True),\n",
    "    StructField('price_low', DoubleType(), True),\n",
    "    StructField('variation', DoubleType(), True)\n",
    "])\n",
    "trading_df = spark.createDataFrame(raw_df, schema=schema, verifySchema=False)"
   ],
   "metadata": {
    "collapsed": false,
    "pycharm": {
     "name": "#%%\n"
    }
   }
  },
  {
   "cell_type": "code",
   "execution_count": 28,
   "outputs": [
    {
     "name": "stdout",
     "output_type": "stream",
     "text": [
      "+----------+----+-----+---+------------+------+----------+------------+----------+-----------+----------+----------+---------+--------------------+\n",
      "|      date|year|month|day|money_volume|volume|stock_code|company_name|price_open|price_close|price_mean|price_high|price_low|           variation|\n",
      "+----------+----+-----+---+------------+------+----------+------------+----------+-----------+----------+----------+---------+--------------------+\n",
      "|2013-01-02|2013|    1|  2|     44800.0|  null|   AAPL11B|       APPLE|     112.0|      112.0|     112.0|     112.0|    112.0|                0.01|\n",
      "|2013-01-02|2013|    1|  2|   5224632.0|  null|     ABCB4|  ABC BRASIL|      14.0|      14.15|     14.14|     14.27|     14.0|0.010107142857142856|\n",
      "|2013-01-02|2013|    1|  2|     1185.91|  null|    ABCB4F|  ABC BRASIL|     13.26|      14.13|     13.63|     14.15|    13.26|0.010656108597285068|\n",
      "|2013-01-02|2013|    1|  2|    570368.0|  null|    ABRE11| ABRIL EDUCA|     40.99|      40.97|     41.03|     41.83|    40.19|0.009995120761161259|\n",
      "|2013-01-02|2013|    1|  2|      5247.2|  null|   ABRE11F| ABRIL EDUCA|     40.93|       41.1|     40.99|      41.1|    40.93|0.010041534326899587|\n",
      "|2013-01-02|2013|    1|  2| 2.9716141E7|  null|     AEDU3|  ANHANGUERA|     34.98|      36.62|     36.08|     36.84|    34.98|0.010468839336763864|\n",
      "|2013-01-02|2013|    1|  2|    51852.56|  null|    AEDU3F|  ANHANGUERA|     35.49|       36.6|     35.98|     36.95|    35.01|0.010312764158918004|\n",
      "|2013-01-02|2013|    1|  2|    11301.61|  null|    AEDU3T|  ANHANGUERA|     37.67|      37.68|     37.67|     37.68|    37.67|0.010002654632333421|\n",
      "|2013-01-02|2013|    1|  2|     99900.0|  null|   AEDUB38|        AEDU|       0.6|       0.71|      0.71|      0.83|      0.6|0.011833333333333333|\n",
      "|2013-01-02|2013|    1|  2|    80032.22|  null|    AEFI11| FII AESAPAR|     118.9|     119.69|    119.27|     119.8|   118.87|0.010066442388561817|\n",
      "+----------+----+-----+---+------------+------+----------+------------+----------+-----------+----------+----------+---------+--------------------+\n",
      "only showing top 10 rows\n",
      "\n"
     ]
    }
   ],
   "source": [
    "trading_df.show(10)"
   ],
   "metadata": {
    "collapsed": false,
    "pycharm": {
     "name": "#%%\n"
    }
   }
  },
  {
   "cell_type": "markdown",
   "source": [
    "### So, we can take all insights from it.\n",
    "Such as:"
   ],
   "metadata": {
    "collapsed": false,
    "pycharm": {
     "name": "#%% md\n"
    }
   }
  },
  {
   "cell_type": "code",
   "execution_count": 29,
   "outputs": [
    {
     "name": "stdout",
     "output_type": "stream",
     "text": [
      "+----------+----+-----+---+---------------+------+----------+------------+----------+-----------+----------+----------+---------+--------------------+\n",
      "|      date|year|month|day|   money_volume|volume|stock_code|company_name|price_open|price_close|price_mean|price_high|price_low|           variation|\n",
      "+----------+----+-----+---+---------------+------+----------+------------+----------+-----------+----------+----------+---------+--------------------+\n",
      "|2013-08-14|2013|    8| 14|   7.90085294E9|  null|    IBOV11|    IBOVESPA|   51082.0|    51082.0|   51082.0|   51082.0|  51082.0|                0.01|\n",
      "|2013-06-12|2013|    6| 12|    6.9085947E9|  null|    IBOV11|    IBOVESPA|   49154.0|    49154.0|   49154.0|   49154.0|  49154.0|                0.01|\n",
      "|2013-04-17|2013|    4| 17|   6.07935286E9|  null|    IBOV11|    IBOVESPA|   52763.0|    52763.0|   52763.0|   52763.0|  52763.0|                0.01|\n",
      "|2013-12-18|2013|   12| 18|   4.38047144E9|  null|    IBOV11|    IBOVESPA|   50653.0|    50653.0|   50653.0|   50653.0|  50653.0|                0.01|\n",
      "|2013-02-13|2013|    2| 13|   3.31735495E9|  null|    IBOV11|    IBOVESPA|   58435.0|    58435.0|   58435.0|   58435.0|  58435.0|                0.01|\n",
      "|2013-10-16|2013|   10| 16|   3.08900058E9|  null|    IBOV11|    IBOVESPA|   56482.0|    56482.0|   56482.0|   56482.0|  56482.0|                0.01|\n",
      "|2013-04-23|2013|    4| 23|  2.878219431E9|  null|    AMIL3L|        AMIL|      31.8|       31.8|      31.8|      31.8|     31.8|                0.01|\n",
      "|2013-09-05|2013|    9|  5|1.93650219737E9|  null|   ARTR11L|     ARTERIS|     23.27|      23.27|     23.27|     23.27|    23.27|                0.01|\n",
      "|2013-01-11|2013|    1| 11|   1.65183412E9|  null|     PCAR4|P.ACUCAR-CBD|     90.58|       89.0|     88.99|     90.58|    88.08|0.009825568558180614|\n",
      "|2013-04-10|2013|    4| 10|  1.614738379E9|  null|     VALE5|        VALE|     34.56|       32.9|     33.77|     34.79|    32.76|0.009519675925925924|\n",
      "|2013-04-17|2013|    4| 17|       1.5708E9|  null|  IBOVP56E|       IBOVE|   56000.0|    56000.0|   56000.0|   56000.0|  56000.0|                0.01|\n",
      "|2013-08-14|2013|    8| 14|       1.4955E9|  null|  IBOVH50E|        IBOV|   50000.0|    50000.0|   50000.0|   50000.0|  50000.0|                0.01|\n",
      "|2013-10-28|2013|   10| 28|   1.43545389E9|  null|     PETR4|   PETROBRAS|     19.42|      19.89|     19.49|     19.89|    19.01|0.010242018537590112|\n",
      "|2013-04-29|2013|    4| 29|  1.434689292E9|  null|     PETR4|   PETROBRAS|      20.0|      20.35|     20.27|     20.58|    19.94|            0.010175|\n",
      "|2013-04-29|2013|    4| 29|  1.430522489E9|  null|     BBSE3|BBSEGURIDADE|     16.95|       16.6|     16.71|     16.95|     16.1|0.009793510324483777|\n",
      "|2013-08-15|2013|    8| 15|  1.429554015E9|  null|     PETR4|   PETROBRAS|      16.7|      17.83|     17.61|     17.96|    16.67|0.010676646706586825|\n",
      "|2013-12-02|2013|   12|  2|  1.389837543E9|  null|     PETR4|   PETROBRAS|     17.86|      17.36|     17.74|     18.07|    17.36|0.009720044792833147|\n",
      "|2013-02-05|2013|    2|  5|   1.38068658E9|  null|     PETR4|   PETROBRAS|     17.28|      18.08|     17.85|     18.29|    17.26| 0.01046296296296296|\n",
      "|2013-08-09|2013|    8|  9|  1.364833089E9|  null|     VALE5|        VALE|      30.2|       30.9|     30.79|     31.19|    30.07|0.010231788079470198|\n",
      "|2013-08-14|2013|    8| 14|  1.316734763E9|  null|     VALE5|        VALE|     31.34|       31.6|      31.6|     31.91|    31.23|0.010082961072112318|\n",
      "+----------+----+-----+---+---------------+------+----------+------------+----------+-----------+----------+----------+---------+--------------------+\n",
      "only showing top 20 rows\n",
      "\n"
     ]
    }
   ],
   "source": [
    "# Most traded stocks in terms of money\n",
    "trading_df.orderBy('money_volume', ascending=False).show(20)"
   ],
   "metadata": {
    "collapsed": false,
    "pycharm": {
     "name": "#%%\n"
    }
   }
  },
  {
   "cell_type": "code",
   "execution_count": 30,
   "outputs": [
    {
     "name": "stdout",
     "output_type": "stream",
     "text": [
      "+----------+----+-----+---+------------+------+----------+------------+----------+-----------+----------+----------+---------+-------------------+\n",
      "|      date|year|month|day|money_volume|volume|stock_code|company_name|price_open|price_close|price_mean|price_high|price_low|          variation|\n",
      "+----------+----+-----+---+------------+------+----------+------------+----------+-----------+----------+----------+---------+-------------------+\n",
      "|2013-08-29|2013|    8| 29|       581.0|  null|   AMBVI84|        AMBV|      0.01|        1.0|      0.41|       1.0|     0.01|                1.0|\n",
      "|2013-02-15|2013|    2| 15|     88924.0|  null|   ITUBB35|        ITUB|      0.01|       0.56|      0.21|      0.62|     0.01|               0.56|\n",
      "|2013-05-07|2013|    5|  7|    581246.0|  null|   PETRF54|   PETR /ERJ|      0.07|       2.39|      2.32|      2.39|     0.07| 0.3414285714285714|\n",
      "|2013-08-16|2013|    8| 16|     11804.0|  null|   GGBRH16|    GGBR /EJ|      0.01|       0.25|      0.22|      0.32|     0.01|               0.25|\n",
      "|2013-12-17|2013|   12| 17|     1179.17|  null|   KLBN11F|  KLABIN S/A|      0.05|       0.72|      0.51|      0.89|     0.05|              0.144|\n",
      "|2013-07-31|2013|    7| 31|      1563.0|  null|   GGBRT12|       GGBRE|      0.03|       0.39|      0.38|      0.39|     0.03|               0.13|\n",
      "|2013-02-15|2013|    2| 15|     57801.0|  null|    ITUBB4|        ITUB|      0.05|       0.63|      0.32|      0.63|     0.05|              0.126|\n",
      "|2013-01-23|2013|    1| 23|        71.0|  null|   PETRC52|        PETR|      0.01|       0.11|      0.03|      0.11|     0.01|               0.11|\n",
      "|2013-08-15|2013|    8| 15|   4372941.0|  null|    PETRH8|        PETR|      0.01|       0.11|       0.1|      0.18|     0.01|               0.11|\n",
      "|2013-09-17|2013|    9| 17|        20.0|  null|   OGXPJ25|        OGXP|      0.01|       0.11|      0.02|      0.11|     0.01|               0.11|\n",
      "|2013-09-06|2013|    9|  6|    176470.0|  null|   OGXPU50|       OGXPE|      0.01|       0.11|       0.1|      0.11|     0.01|               0.11|\n",
      "|2013-12-10|2013|   12| 10|        34.0|  null|   USIMB15|        USIM|      0.03|       0.31|      0.17|      0.31|     0.03|0.10333333333333333|\n",
      "|2013-10-17|2013|   10| 17|      3243.0|  null|   USIMV11|       USIME|      0.01|        0.1|      0.02|       0.1|     0.01|                0.1|\n",
      "|2013-05-17|2013|    5| 17|     53245.0|  null|   BBASE26|        BBAS|      0.03|        0.3|      0.15|      0.37|     0.03|                0.1|\n",
      "|2013-08-08|2013|    8|  8|     44500.0|  null|   IBOVH51|        IBOV|      10.0|      100.0|     70.63|     100.0|     10.0|                0.1|\n",
      "|2013-08-21|2013|    8| 21|      4406.0|  null|   PETRU65|       PETRE|      0.01|        0.1|      0.08|       0.1|     0.01|                0.1|\n",
      "|2013-07-22|2013|    7| 22|     22005.0|  null|   OIBRH42|        OIBR|      0.04|        0.4|      0.23|      0.45|     0.04|                0.1|\n",
      "|2013-08-21|2013|    8| 21|      4406.0|  null|   PETRI75|       PETRE|      0.01|        0.1|      0.08|       0.1|     0.01|                0.1|\n",
      "|2013-02-21|2013|    2| 21|      6600.0|  null|    USIMO8|       USIME|      0.01|        0.1|      0.05|       0.1|     0.01|                0.1|\n",
      "|2013-12-02|2013|   12|  2|        9.82|  null|  ENMA12BF|       CEMAR|      0.02|        0.2|       0.1|       0.2|     0.02|                0.1|\n",
      "+----------+----+-----+---+------------+------+----------+------------+----------+-----------+----------+----------+---------+-------------------+\n",
      "only showing top 20 rows\n",
      "\n"
     ]
    }
   ],
   "source": [
    "# Most up variation in a day\n",
    "trading_df.orderBy('variation', ascending=False).show(20)"
   ],
   "metadata": {
    "collapsed": false,
    "pycharm": {
     "name": "#%%\n"
    }
   }
  },
  {
   "cell_type": "markdown",
   "source": [
    "### ETL World Bank\n",
    "\n",
    "The `wbgapi` package is the official Python/R library to interact with the [World Bank open data](https://data.worldbank.org/),\n",
    "it is useful to easily retrieve data, instead of download it ourselves.\n",
    "\n",
    "The purpose is to fetch data from Brazil, then it will be possible to compare the stock market and the real economy."
   ],
   "metadata": {
    "collapsed": false,
    "pycharm": {
     "name": "#%% md\n"
    }
   }
  },
  {
   "cell_type": "code",
   "execution_count": 31,
   "metadata": {
    "editable": true
   },
   "outputs": [
    {
     "data": {
      "text/plain": "id                 value\n-----------------  ------------------------------------------------------------------------------------------------\nDT.DOD.DECT.CD     External debt stocks, total (DOD, current US$)\nDT.DOD.DECT.GN.ZS  External debt stocks (% of GNI)\nDT.DOD.DLXF.CD     External debt stocks, long-term (DOD, current US$)\nDT.DOD.DPNG.CD     External debt stocks, private nonguaranteed (PNG) (DOD, current US$)\nDT.DOD.DPPG.CD     External debt stocks, public and publicly guaranteed (PPG) (DOD, current US$)\nDT.DOD.DSTC.CD     External debt stocks, short-term (DOD, current US$)\nDT.DOD.DSTC.IR.ZS  Short-term debt (% of total reserves)\nDT.DOD.DSTC.XP.ZS  Short-term debt (% of exports of goods, services and primary income)\nDT.DOD.DSTC.ZS     Short-term debt (% of total external debt)\nDT.DOD.PVLX.CD     Present value of external debt (current US$)\nDT.DOD.PVLX.EX.ZS  Present value of external debt (% of exports of goods, services and primary income)\nDT.DOD.PVLX.GN.ZS  Present value of external debt (% of GNI)\nDT.NFL.DPNG.CD     Net flows on external debt, private nonguaranteed (PNG) (NFL, current US$)\nDT.TDS.DECT.CD     Debt service on external debt, total (TDS, current US$)\nDT.TDS.DECT.EX.ZS  Total debt service (% of exports of goods, services and primary income)\nDT.TDS.DECT.GN.ZS  Total debt service (% of GNI)\nDT.TDS.DPPF.XP.ZS  Debt service (PPG and IMF only, % of exports of goods, services and primary income)\nDT.TDS.DPPG.CD     Debt service on external debt, public and publicly guaranteed (PPG) (TDS, current US$)\nDT.TDS.DPPG.GN.ZS  Public and publicly guaranteed debt service (% of GNI)\nDT.TDS.DPPG.XP.ZS  Public and publicly guaranteed debt service (% of exports of goods, services and primary income)\nDT.TDS.MLAT.CD     Multilateral debt service (TDS, current US$)\nDT.TDS.MLAT.PG.ZS  Multilateral debt service (% of public and publicly guaranteed debt service)\nGC.DOD.TOTL.CN     Central government debt, total (current LCU)\nGC.DOD.TOTL.GD.ZS  Central government debt, total (% of GDP)\nIQ.CPA.DEBT.XQ     CPIA debt policy rating (1=low to 6=high)\n                   25 elements",
      "text/html": "<div class=\"wbgapi\"><table>\n<thead>\n<tr><th>id               </th><th>value                                                                                           </th></tr>\n</thead>\n<tbody>\n<tr><td>DT.DOD.DECT.CD   </td><td>External debt stocks, total (DOD, current US$)                                                  </td></tr>\n<tr><td>DT.DOD.DECT.GN.ZS</td><td>External debt stocks (% of GNI)                                                                 </td></tr>\n<tr><td>DT.DOD.DLXF.CD   </td><td>External debt stocks, long-term (DOD, current US$)                                              </td></tr>\n<tr><td>DT.DOD.DPNG.CD   </td><td>External debt stocks, private nonguaranteed (PNG) (DOD, current US$)                            </td></tr>\n<tr><td>DT.DOD.DPPG.CD   </td><td>External debt stocks, public and publicly guaranteed (PPG) (DOD, current US$)                   </td></tr>\n<tr><td>DT.DOD.DSTC.CD   </td><td>External debt stocks, short-term (DOD, current US$)                                             </td></tr>\n<tr><td>DT.DOD.DSTC.IR.ZS</td><td>Short-term debt (% of total reserves)                                                           </td></tr>\n<tr><td>DT.DOD.DSTC.XP.ZS</td><td>Short-term debt (% of exports of goods, services and primary income)                            </td></tr>\n<tr><td>DT.DOD.DSTC.ZS   </td><td>Short-term debt (% of total external debt)                                                      </td></tr>\n<tr><td>DT.DOD.PVLX.CD   </td><td>Present value of external debt (current US$)                                                    </td></tr>\n<tr><td>DT.DOD.PVLX.EX.ZS</td><td>Present value of external debt (% of exports of goods, services and primary income)             </td></tr>\n<tr><td>DT.DOD.PVLX.GN.ZS</td><td>Present value of external debt (% of GNI)                                                       </td></tr>\n<tr><td>DT.NFL.DPNG.CD   </td><td>Net flows on external debt, private nonguaranteed (PNG) (NFL, current US$)                      </td></tr>\n<tr><td>DT.TDS.DECT.CD   </td><td>Debt service on external debt, total (TDS, current US$)                                         </td></tr>\n<tr><td>DT.TDS.DECT.EX.ZS</td><td>Total debt service (% of exports of goods, services and primary income)                         </td></tr>\n<tr><td>DT.TDS.DECT.GN.ZS</td><td>Total debt service (% of GNI)                                                                   </td></tr>\n<tr><td>DT.TDS.DPPF.XP.ZS</td><td>Debt service (PPG and IMF only, % of exports of goods, services and primary income)             </td></tr>\n<tr><td>DT.TDS.DPPG.CD   </td><td>Debt service on external debt, public and publicly guaranteed (PPG) (TDS, current US$)          </td></tr>\n<tr><td>DT.TDS.DPPG.GN.ZS</td><td>Public and publicly guaranteed debt service (% of GNI)                                          </td></tr>\n<tr><td>DT.TDS.DPPG.XP.ZS</td><td>Public and publicly guaranteed debt service (% of exports of goods, services and primary income)</td></tr>\n<tr><td>DT.TDS.MLAT.CD   </td><td>Multilateral debt service (TDS, current US$)                                                    </td></tr>\n<tr><td>DT.TDS.MLAT.PG.ZS</td><td>Multilateral debt service (% of public and publicly guaranteed debt service)                    </td></tr>\n<tr><td>GC.DOD.TOTL.CN   </td><td>Central government debt, total (current LCU)                                                    </td></tr>\n<tr><td>GC.DOD.TOTL.GD.ZS</td><td>Central government debt, total (% of GDP)                                                       </td></tr>\n<tr><td>IQ.CPA.DEBT.XQ   </td><td>CPIA debt policy rating (1=low to 6=high)                                                       </td></tr>\n<tr><td>                 </td><td>25 elements                                                                                     </td></tr>\n</tbody>\n</table></div>"
     },
     "execution_count": 31,
     "metadata": {},
     "output_type": "execute_result"
    }
   ],
   "source": [
    "# Metrics related to gdp\n",
    "wb.series.info(q='gdp')\n",
    "\n",
    "# Metrics related to debt, and so on\n",
    "wb.series.info(q='debt')"
   ]
  },
  {
   "cell_type": "code",
   "execution_count": 32,
   "metadata": {
    "editable": true
   },
   "outputs": [],
   "source": [
    "metric_to_schema = {\n",
    "    'GC.DOD.TOTL.GD.ZS': 'debt',\n",
    "    'GC.XPN.TOTL.CN': 'total_expense',\n",
    "    'NY.GDP.MKTP.KD.ZG': 'gdp_annual_growth',\n",
    "    'NY.GDP.MKTP.CD': 'gdp',\n",
    "    'NY.GDP.PCAP.CD': 'gdp_per_capita',\n",
    "    'SP.POP.TOTL': 'population',\n",
    "    'SP.DYN.LE00.IN': 'life_expectancy',\n",
    "    'GC.XPN.TOTL.GD.ZS': 'expense_per_gdp',\n",
    "    'FI.RES.TOTL.CD': 'total_reserves',\n",
    "    'SE.ADT.LITR.ZS': 'pop_literacy_rate',\n",
    "    'SE.XPD.TOTL.GD.ZS': 'expenditure_education_per_gdp',\n",
    "    'BX.KLT.DINV.CD.WD': 'foreign_investment',\n",
    "}"
   ]
  },
  {
   "cell_type": "code",
   "execution_count": 33,
   "outputs": [],
   "source": [
    "# Load data into pandas\n",
    "country = 'BRA'\n",
    "values = []\n",
    "for key, value in metric_to_schema.items():\n",
    "    df = wb.data.DataFrame(key, economy=country, columns='time', numericTimeKeys=True).dropna(axis=1, how='all')\n",
    "    for data in df.items():\n",
    "        values.append((data[0], value, data[1][country]))\n",
    "economy_df = pd.DataFrame(data=values, columns=['year', 'table', 'value'])\n",
    "economy_df = spark.createDataFrame(economy_df)"
   ],
   "metadata": {
    "collapsed": false,
    "pycharm": {
     "name": "#%%\n"
    }
   }
  },
  {
   "cell_type": "markdown",
   "metadata": {
    "editable": true,
    "pycharm": {
     "name": "#%% md\n"
    }
   },
   "source": [
    "### Step 2: Explore and Assess the Data\n",
    "#### Explore the Data \n",
    "Identify data quality issues, like missing values, duplicate data, etc.\n",
    "\n",
    "#### Cleaning Steps\n",
    "Document steps necessary to clean the data"
   ]
  },
  {
   "cell_type": "code",
   "execution_count": 34,
   "metadata": {
    "editable": true
   },
   "outputs": [],
   "source": [
    "# Performing cleaning tasks here\n",
    "\n",
    "\n"
   ]
  },
  {
   "cell_type": "markdown",
   "metadata": {
    "editable": true
   },
   "source": [
    "### Step 3: Define the Data Model\n",
    "#### 3.1 Conceptual Data Model\n",
    "Map out the conceptual data model and explain why you chose that model\n",
    "\n",
    "### Trading Table\n",
    "\n",
    "| Feature        | Description  |\n",
    "| ------------- |:-------------:|\n",
    "| date         | date that stock is being traded                      |\n",
    "| year         | year that stock is being traded                      |\n",
    "| month        | month that stock is being traded                     |\n",
    "| day          | day that stock is being traded                       |\n",
    "| money_volume | total amount of money in all transactions            |\n",
    "| volume       | total number traded stocks                           |\n",
    "| stock_code   | unique stock code                                    |\n",
    "| company_name | name of the company that is represented by the stock |\n",
    "| price_open   | price when trading opened                            |\n",
    "| price_close  | price when trading closed                            |\n",
    "| price_mean   | price mean of the stock                              |\n",
    "| price_high   | price high of the stock                              |\n",
    "| price_low    | price low of the stock                               |\n",
    "| variation    | the variation between price close and price open     |\n",
    "\n",
    "### Economy Table\n",
    "\n",
    "| Feature        | Description  |\n",
    "| ------------- |:-------------:|\n",
    "| year  | the year the statics was collected           |\n",
    "| table | the statics itself, like, GDP, debt over GDP |\n",
    "| value | the value of the statics                     |\n",
    "\n",
    "#### 3.2 Mapping Out Data Pipelines\n",
    "List the steps necessary to pipeline the data into the chosen data model"
   ]
  },
  {
   "cell_type": "markdown",
   "metadata": {
    "editable": true
   },
   "source": [
    "### Step 4: Run Pipelines to Model the Data \n",
    "#### 4.1 Create the data model\n",
    "Build the data pipelines to create the data model."
   ]
  },
  {
   "cell_type": "code",
   "execution_count": 35,
   "metadata": {
    "editable": true
   },
   "outputs": [],
   "source": [
    "# Write code here"
   ]
  },
  {
   "cell_type": "markdown",
   "metadata": {
    "editable": true
   },
   "source": [
    "#### 4.2 Data Quality Checks\n",
    "Explain the data quality checks you'll perform to ensure the pipeline ran as expected. These could include:\n",
    " * Integrity constraints on the relational database (e.g., unique key, data type, etc.)\n",
    " * Unit tests for the scripts to ensure they are doing the right thing\n",
    " * Source/Count checks to ensure completeness\n",
    " \n",
    "Run Quality Checks"
   ]
  },
  {
   "cell_type": "code",
   "execution_count": 36,
   "metadata": {
    "editable": true
   },
   "outputs": [
    {
     "name": "stdout",
     "output_type": "stream",
     "text": [
      "Data quality check passed for economy with 476 records.\n",
      "Data quality check passed for trading with 378915 records.\n"
     ]
    },
    {
     "data": {
      "text/plain": "0"
     },
     "execution_count": 36,
     "metadata": {},
     "output_type": "execute_result"
    }
   ],
   "source": [
    "# Perform quality checks here\n",
    "def quality_check(df_quality, name):\n",
    "    \"\"\"\n",
    "    Count checks on table to ensure completeness of data.\n",
    "    :param df_quality: spark dataframe to check counts on\n",
    "    :param name: name of the dataframe\n",
    "    \"\"\"\n",
    "\n",
    "    total_count = df_quality.count()\n",
    "\n",
    "    if total_count == 0:\n",
    "        print(f\"Data quality check failed for {name} with zero records!\")\n",
    "    else:\n",
    "        print(f\"Data quality check passed for {name} with {total_count} records.\")\n",
    "    return 0\n",
    "\n",
    "\n",
    "quality_check(economy_df, \"economy\")\n",
    "quality_check(trading_df, \"trading\")"
   ]
  },
  {
   "cell_type": "markdown",
   "metadata": {
    "editable": true
   },
   "source": [
    "#### 4.3 Data dictionary \n",
    "Create a data dictionary for your data model. For each field, provide a brief description of what the data is and where it came from. You can include the data dictionary in the notebook or in a separate file."
   ]
  },
  {
   "cell_type": "markdown",
   "metadata": {
    "editable": true
   },
   "source": [
    "#### Step 5: Complete Project Write Up\n",
    "* Clearly state the rationale for the choice of tools and technologies for the project.\n",
    "* Propose how often the data should be updated and why.\n",
    "* Write a description of how you would approach the problem differently under the following scenarios:\n",
    " * The data was increased by 100x.\n",
    " * The data populates a dashboard that must be updated on a daily basis by 7am every day.\n",
    " * The database needed to be accessed by 100+ people."
   ]
  },
  {
   "cell_type": "code",
   "execution_count": 36,
   "metadata": {
    "editable": true,
    "pycharm": {
     "name": "#%%\n"
    }
   },
   "outputs": [],
   "source": []
  }
 ],
 "metadata": {
  "kernelspec": {
   "display_name": "Python 3",
   "language": "python",
   "name": "python3"
  },
  "language_info": {
   "codemirror_mode": {
    "name": "ipython",
    "version": 3
   },
   "file_extension": ".py",
   "mimetype": "text/x-python",
   "name": "python",
   "nbconvert_exporter": "python",
   "pygments_lexer": "ipython3",
   "version": "3.6.3"
  }
 },
 "nbformat": 4,
 "nbformat_minor": 4
}